{
 "cells": [
  {
   "cell_type": "code",
   "execution_count": 1,
   "id": "4498304c",
   "metadata": {},
   "outputs": [],
   "source": [
    "import tensorflow as tf\n",
    "import tensorflow_datasets as tfds\n",
    "import os\n",
    "import re\n",
    "import numpy as np\n",
    "import matplotlib.pyplot as plt\n",
    "import pandas as pd\n",
    "import seaborn as sns"
   ]
  },
  {
   "cell_type": "code",
   "execution_count": 2,
   "id": "28fa73e0",
   "metadata": {},
   "outputs": [
    {
     "data": {
      "text/plain": [
       "'/aiffel/aiffel'"
      ]
     },
     "execution_count": 2,
     "metadata": {},
     "output_type": "execute_result"
    }
   ],
   "source": [
    "pwd"
   ]
  },
  {
   "cell_type": "code",
   "execution_count": 3,
   "id": "3fbce487",
   "metadata": {},
   "outputs": [],
   "source": [
    "train_data = pd.read_csv('transformer_chatbot/data/ChatbotData .csv')"
   ]
  },
  {
   "cell_type": "code",
   "execution_count": 4,
   "id": "0b9e429f",
   "metadata": {},
   "outputs": [
    {
     "data": {
      "text/html": [
       "<div>\n",
       "<style scoped>\n",
       "    .dataframe tbody tr th:only-of-type {\n",
       "        vertical-align: middle;\n",
       "    }\n",
       "\n",
       "    .dataframe tbody tr th {\n",
       "        vertical-align: top;\n",
       "    }\n",
       "\n",
       "    .dataframe thead th {\n",
       "        text-align: right;\n",
       "    }\n",
       "</style>\n",
       "<table border=\"1\" class=\"dataframe\">\n",
       "  <thead>\n",
       "    <tr style=\"text-align: right;\">\n",
       "      <th></th>\n",
       "      <th>Q</th>\n",
       "      <th>A</th>\n",
       "      <th>label</th>\n",
       "    </tr>\n",
       "  </thead>\n",
       "  <tbody>\n",
       "    <tr>\n",
       "      <th>0</th>\n",
       "      <td>12시 땡!</td>\n",
       "      <td>하루가 또 가네요.</td>\n",
       "      <td>0</td>\n",
       "    </tr>\n",
       "    <tr>\n",
       "      <th>1</th>\n",
       "      <td>1지망 학교 떨어졌어</td>\n",
       "      <td>위로해 드립니다.</td>\n",
       "      <td>0</td>\n",
       "    </tr>\n",
       "    <tr>\n",
       "      <th>2</th>\n",
       "      <td>3박4일 놀러가고 싶다</td>\n",
       "      <td>여행은 언제나 좋죠.</td>\n",
       "      <td>0</td>\n",
       "    </tr>\n",
       "    <tr>\n",
       "      <th>3</th>\n",
       "      <td>3박4일 정도 놀러가고 싶다</td>\n",
       "      <td>여행은 언제나 좋죠.</td>\n",
       "      <td>0</td>\n",
       "    </tr>\n",
       "    <tr>\n",
       "      <th>4</th>\n",
       "      <td>PPL 심하네</td>\n",
       "      <td>눈살이 찌푸려지죠.</td>\n",
       "      <td>0</td>\n",
       "    </tr>\n",
       "    <tr>\n",
       "      <th>...</th>\n",
       "      <td>...</td>\n",
       "      <td>...</td>\n",
       "      <td>...</td>\n",
       "    </tr>\n",
       "    <tr>\n",
       "      <th>11818</th>\n",
       "      <td>훔쳐보는 것도 눈치 보임.</td>\n",
       "      <td>티가 나니까 눈치가 보이는 거죠!</td>\n",
       "      <td>2</td>\n",
       "    </tr>\n",
       "    <tr>\n",
       "      <th>11819</th>\n",
       "      <td>훔쳐보는 것도 눈치 보임.</td>\n",
       "      <td>훔쳐보는 거 티나나봐요.</td>\n",
       "      <td>2</td>\n",
       "    </tr>\n",
       "    <tr>\n",
       "      <th>11820</th>\n",
       "      <td>흑기사 해주는 짝남.</td>\n",
       "      <td>설렜겠어요.</td>\n",
       "      <td>2</td>\n",
       "    </tr>\n",
       "    <tr>\n",
       "      <th>11821</th>\n",
       "      <td>힘든 연애 좋은 연애라는게 무슨 차이일까?</td>\n",
       "      <td>잘 헤어질 수 있는 사이 여부인 거 같아요.</td>\n",
       "      <td>2</td>\n",
       "    </tr>\n",
       "    <tr>\n",
       "      <th>11822</th>\n",
       "      <td>힘들어서 결혼할까봐</td>\n",
       "      <td>도피성 결혼은 하지 않길 바라요.</td>\n",
       "      <td>2</td>\n",
       "    </tr>\n",
       "  </tbody>\n",
       "</table>\n",
       "<p>11823 rows × 3 columns</p>\n",
       "</div>"
      ],
      "text/plain": [
       "                             Q                         A  label\n",
       "0                       12시 땡!                하루가 또 가네요.      0\n",
       "1                  1지망 학교 떨어졌어                 위로해 드립니다.      0\n",
       "2                 3박4일 놀러가고 싶다               여행은 언제나 좋죠.      0\n",
       "3              3박4일 정도 놀러가고 싶다               여행은 언제나 좋죠.      0\n",
       "4                      PPL 심하네                눈살이 찌푸려지죠.      0\n",
       "...                        ...                       ...    ...\n",
       "11818           훔쳐보는 것도 눈치 보임.        티가 나니까 눈치가 보이는 거죠!      2\n",
       "11819           훔쳐보는 것도 눈치 보임.             훔쳐보는 거 티나나봐요.      2\n",
       "11820              흑기사 해주는 짝남.                    설렜겠어요.      2\n",
       "11821  힘든 연애 좋은 연애라는게 무슨 차이일까?  잘 헤어질 수 있는 사이 여부인 거 같아요.      2\n",
       "11822               힘들어서 결혼할까봐        도피성 결혼은 하지 않길 바라요.      2\n",
       "\n",
       "[11823 rows x 3 columns]"
      ]
     },
     "execution_count": 4,
     "metadata": {},
     "output_type": "execute_result"
    }
   ],
   "source": [
    "train_data"
   ]
  },
  {
   "cell_type": "markdown",
   "id": "0d88e886",
   "metadata": {},
   "source": [
    "## Data Information\n",
    "챗봇 트레이닝용 문답 페어 11,876개\n",
    "일상다반사 0, 이별(부정) 1, 사랑(긍정) 2로 레이블링"
   ]
  },
  {
   "cell_type": "code",
   "execution_count": 5,
   "id": "d562f0b3",
   "metadata": {},
   "outputs": [
    {
     "data": {
      "text/plain": [
       "array([0, 1, 2])"
      ]
     },
     "execution_count": 5,
     "metadata": {},
     "output_type": "execute_result"
    }
   ],
   "source": [
    "train_data['label'].unique()"
   ]
  },
  {
   "cell_type": "markdown",
   "id": "2fa8f9ed",
   "metadata": {},
   "source": [
    "## 데이터가 결국 중복된게 많다."
   ]
  },
  {
   "cell_type": "code",
   "execution_count": 6,
   "id": "490ca460",
   "metadata": {},
   "outputs": [
    {
     "data": {
      "text/plain": [
       "Q        11662\n",
       "A         7779\n",
       "label        3\n",
       "dtype: int64"
      ]
     },
     "execution_count": 6,
     "metadata": {},
     "output_type": "execute_result"
    }
   ],
   "source": [
    "train_data.nunique()"
   ]
  },
  {
   "cell_type": "code",
   "execution_count": 7,
   "id": "b47f01a1",
   "metadata": {},
   "outputs": [
    {
     "data": {
      "text/plain": [
       "<AxesSubplot:xlabel='label', ylabel='count'>"
      ]
     },
     "execution_count": 7,
     "metadata": {},
     "output_type": "execute_result"
    },
    {
     "data": {
      "image/png": "[encoded data removed]",
      "text/plain": [
       "<Figure size 432x288 with 1 Axes>"
      ]
     },
     "metadata": {
      "needs_background": "light"
     },
     "output_type": "display_data"
    }
   ],
   "source": [
    "sns.countplot(x = train_data['label'], data = train_data)"
   ]
  },
  {
   "cell_type": "markdown",
   "id": "6b3f9e3f",
   "metadata": {},
   "source": [
    "## countplot 확인 결과\n",
    "일상 > 부정 > 긍정 순으로 답변한 데이터의 그래프 확인"
   ]
  },
  {
   "cell_type": "code",
   "execution_count": 8,
   "id": "681a8da4",
   "metadata": {},
   "outputs": [
    {
     "name": "stdout",
     "output_type": "stream",
     "text": [
      "Q        0\n",
      "A        0\n",
      "label    0\n",
      "dtype: int64\n"
     ]
    }
   ],
   "source": [
    "print(train_data.isnull().sum())"
   ]
  },
  {
   "cell_type": "code",
   "execution_count": 9,
   "id": "d90efa7f",
   "metadata": {
    "scrolled": false
   },
   "outputs": [
    {
     "name": "stderr",
     "output_type": "stream",
     "text": [
      "/tmp/ipykernel_794/2794573382.py:1: UserWarning: This pattern has match groups. To actually get the groups, use str.extract.\n",
      "  contatins_q_df = train_data[train_data['Q'].str.contains(r'(ㅋ{2,}|ㅎ{2,}|ㅜ{2,}|ㅠ{2,})')]\n",
      "/tmp/ipykernel_794/2794573382.py:2: UserWarning: This pattern has match groups. To actually get the groups, use str.extract.\n",
      "  contatins_a_df = train_data[train_data['A'].str.contains(r'(ㅋ{2,}|ㅎ{2,}|ㅜ{2,}|ㅠ{2,})')]\n"
     ]
    },
    {
     "data": {
      "text/html": [
       "<div>\n",
       "<style scoped>\n",
       "    .dataframe tbody tr th:only-of-type {\n",
       "        vertical-align: middle;\n",
       "    }\n",
       "\n",
       "    .dataframe tbody tr th {\n",
       "        vertical-align: top;\n",
       "    }\n",
       "\n",
       "    .dataframe thead th {\n",
       "        text-align: right;\n",
       "    }\n",
       "</style>\n",
       "<table border=\"1\" class=\"dataframe\">\n",
       "  <thead>\n",
       "    <tr style=\"text-align: right;\">\n",
       "      <th></th>\n",
       "      <th>Q</th>\n",
       "      <th>A</th>\n",
       "      <th>label</th>\n",
       "    </tr>\n",
       "  </thead>\n",
       "  <tbody>\n",
       "    <tr>\n",
       "      <th>7</th>\n",
       "      <td>SNS 맞팔 왜 안하지ㅠㅠ</td>\n",
       "      <td>잘 모르고 있을 수도 있어요.</td>\n",
       "      <td>0</td>\n",
       "    </tr>\n",
       "    <tr>\n",
       "      <th>211</th>\n",
       "      <td>공무원 시험 힘들어ㅠㅠ</td>\n",
       "      <td>철밥통 되기가 어디 쉽겠어요.</td>\n",
       "      <td>0</td>\n",
       "    </tr>\n",
       "    <tr>\n",
       "      <th>1153</th>\n",
       "      <td>단둘이는 처음 만나는 날ㅋㅋ</td>\n",
       "      <td>서로를 아는 좋은 기회가 되겠네요.</td>\n",
       "      <td>0</td>\n",
       "    </tr>\n",
       "    <tr>\n",
       "      <th>2104</th>\n",
       "      <td>보일러 틀고 나갔어ㅠㅠ</td>\n",
       "      <td>이번달 난방비가 많이 나오겠네요.</td>\n",
       "      <td>0</td>\n",
       "    </tr>\n",
       "    <tr>\n",
       "      <th>2229</th>\n",
       "      <td>비트코인 ㅜㅜ</td>\n",
       "      <td>안타깝지만 잊어버리세요.</td>\n",
       "      <td>0</td>\n",
       "    </tr>\n",
       "    <tr>\n",
       "      <th>2936</th>\n",
       "      <td>안경 벗었는데 차이가 없어ㅋㅋ</td>\n",
       "      <td>이게 정상이죠.</td>\n",
       "      <td>0</td>\n",
       "    </tr>\n",
       "    <tr>\n",
       "      <th>5240</th>\n",
       "      <td>회식 좀 그만 했으면ㅜㅜ</td>\n",
       "      <td>가기 싫어도 가야겠죠.</td>\n",
       "      <td>0</td>\n",
       "    </tr>\n",
       "    <tr>\n",
       "      <th>5738</th>\n",
       "      <td>꿈ㅠㅠ</td>\n",
       "      <td>꿈에 나왔나요.</td>\n",
       "      <td>1</td>\n",
       "    </tr>\n",
       "    <tr>\n",
       "      <th>5786</th>\n",
       "      <td>나만 구질하게.ㅜㅜ</td>\n",
       "      <td>구질구질해도 괜찮아요.</td>\n",
       "      <td>1</td>\n",
       "    </tr>\n",
       "    <tr>\n",
       "      <th>5811</th>\n",
       "      <td>난 또 바보ㅠㅠ</td>\n",
       "      <td>바보를 사랑하는 사람이 있을 거예요.</td>\n",
       "      <td>1</td>\n",
       "    </tr>\n",
       "    <tr>\n",
       "      <th>6058</th>\n",
       "      <td>다시 한번 더 붙잡고 싶어 ㅠㅠ</td>\n",
       "      <td>후회하지 않는다면 지금 잡으세요.</td>\n",
       "      <td>1</td>\n",
       "    </tr>\n",
       "    <tr>\n",
       "      <th>6063</th>\n",
       "      <td>다시 힘들어지네 ㅠㅠ</td>\n",
       "      <td>힘든 건 익숙해지지가 않아요.</td>\n",
       "      <td>1</td>\n",
       "    </tr>\n",
       "    <tr>\n",
       "      <th>6137</th>\n",
       "      <td>따뜻한 봄이 다시 왔네 ㅎㅎ</td>\n",
       "      <td>봄은 항상 돌아오죠.</td>\n",
       "      <td>1</td>\n",
       "    </tr>\n",
       "    <tr>\n",
       "      <th>6163</th>\n",
       "      <td>또 일주일도 못가서ㅎㅎ</td>\n",
       "      <td>연락을 하셨군요.</td>\n",
       "      <td>1</td>\n",
       "    </tr>\n",
       "    <tr>\n",
       "      <th>6270</th>\n",
       "      <td>매번 왜 이렇게 남는게 후회인지 모르겠네 ㅎㅎ</td>\n",
       "      <td>모든 일에는 후회가 남기 마련인가봐요.</td>\n",
       "      <td>1</td>\n",
       "    </tr>\n",
       "    <tr>\n",
       "      <th>6556</th>\n",
       "      <td>비오니까 같이 막걸리먹던게 생각나네ㅎㅎㅎ</td>\n",
       "      <td>한 잔 드세요!</td>\n",
       "      <td>1</td>\n",
       "    </tr>\n",
       "    <tr>\n",
       "      <th>6708</th>\n",
       "      <td>손가락이 원망스럽네ㅜㅜ</td>\n",
       "      <td>실수했나봅니다.</td>\n",
       "      <td>1</td>\n",
       "    </tr>\n",
       "    <tr>\n",
       "      <th>6786</th>\n",
       "      <td>신청했더니 정말로 왔네ㅎㅎ</td>\n",
       "      <td>좋은 결과길 바라요.</td>\n",
       "      <td>1</td>\n",
       "    </tr>\n",
       "    <tr>\n",
       "      <th>6819</th>\n",
       "      <td>아 오늘 힘드네ㅜㅜ</td>\n",
       "      <td>당신이 힘들지 않았으면 좋겠어요.</td>\n",
       "      <td>1</td>\n",
       "    </tr>\n",
       "    <tr>\n",
       "      <th>6967</th>\n",
       "      <td>어제 연락햇는데ㅋㅋ</td>\n",
       "      <td>말씀해보세요.</td>\n",
       "      <td>1</td>\n",
       "    </tr>\n",
       "    <tr>\n",
       "      <th>6979</th>\n",
       "      <td>어제 헤어진 여자친구 연락 왔다고 글 썼는데 ㅋㅋ</td>\n",
       "      <td>좋은 연락이었길 바랍니다.</td>\n",
       "      <td>1</td>\n",
       "    </tr>\n",
       "    <tr>\n",
       "      <th>7179</th>\n",
       "      <td>오늘따라 미치네ㅜㅜ</td>\n",
       "      <td>답답한가봅니다.</td>\n",
       "      <td>1</td>\n",
       "    </tr>\n",
       "    <tr>\n",
       "      <th>7211</th>\n",
       "      <td>오해했네 그리고 차단 ㅎㅎ</td>\n",
       "      <td>차단하는게 서로에게 좋을 때가 있어요.</td>\n",
       "      <td>1</td>\n",
       "    </tr>\n",
       "    <tr>\n",
       "      <th>7364</th>\n",
       "      <td>이러다 병걸리겠어ㅠㅠ</td>\n",
       "      <td>아프면 안 돼요. 그럼 제 마음이 아파요.</td>\n",
       "      <td>1</td>\n",
       "    </tr>\n",
       "    <tr>\n",
       "      <th>7771</th>\n",
       "      <td>이혼을 하고싶진 않는데 너무견디기힘듭니다 ㅠㅠ</td>\n",
       "      <td>인연이 거기까지였다고 생각하기로 해요.</td>\n",
       "      <td>1</td>\n",
       "    </tr>\n",
       "    <tr>\n",
       "      <th>7952</th>\n",
       "      <td>저만 이렇게 힘든거 아니죠 ㅠㅠ?</td>\n",
       "      <td>혼자만 힘든 거 아니에요.</td>\n",
       "      <td>1</td>\n",
       "    </tr>\n",
       "    <tr>\n",
       "      <th>7988</th>\n",
       "      <td>전남친한테 한달만에 연락하고싶어 ㅠㅠ</td>\n",
       "      <td>달라지는 게 없다면 만나지 않는 게 더 나을 수도 있어요.</td>\n",
       "      <td>1</td>\n",
       "    </tr>\n",
       "    <tr>\n",
       "      <th>7997</th>\n",
       "      <td>전여친생일 ㅎㅎ</td>\n",
       "      <td>미련이 아닐까요? 생각하지 않았으면 좋겠어요.</td>\n",
       "      <td>1</td>\n",
       "    </tr>\n",
       "    <tr>\n",
       "      <th>8008</th>\n",
       "      <td>점심시간잠깐 그녀가 저에게 했던 말들이 떠오르네~ㅠㅠ</td>\n",
       "      <td>생각을 접어두는 것도 필요해요.</td>\n",
       "      <td>1</td>\n",
       "    </tr>\n",
       "    <tr>\n",
       "      <th>8026</th>\n",
       "      <td>정말 너를 받아준게 아니였어.ㅠㅠ</td>\n",
       "      <td>그때의 나를 자책하지 말아요. 무슨 선택을 하든 당신을 믿어요.</td>\n",
       "      <td>1</td>\n",
       "    </tr>\n",
       "    <tr>\n",
       "      <th>8046</th>\n",
       "      <td>정말 숨막혀 ㅠㅠ</td>\n",
       "      <td>자신을 옥죄지 마세요.</td>\n",
       "      <td>1</td>\n",
       "    </tr>\n",
       "    <tr>\n",
       "      <th>8132</th>\n",
       "      <td>조언 좀 해주세요 ㅠㅠ</td>\n",
       "      <td>네 말씀해주세요.</td>\n",
       "      <td>1</td>\n",
       "    </tr>\n",
       "    <tr>\n",
       "      <th>8200</th>\n",
       "      <td>지옥같은 5월이 다가 오네ㅜㅜ</td>\n",
       "      <td>천국과 지옥이네요.</td>\n",
       "      <td>1</td>\n",
       "    </tr>\n",
       "    <tr>\n",
       "      <th>8217</th>\n",
       "      <td>진짜 어의 없네.ㅠㅠ</td>\n",
       "      <td>저한테 말해보세요.</td>\n",
       "      <td>1</td>\n",
       "    </tr>\n",
       "    <tr>\n",
       "      <th>8258</th>\n",
       "      <td>쭉 괜찮다가 오늘 갑자기 너무 보고싶고 생각나네ㅠㅠ</td>\n",
       "      <td>그런 날이 있더라고요. 다른 생각을 해보세요.</td>\n",
       "      <td>1</td>\n",
       "    </tr>\n",
       "    <tr>\n",
       "      <th>8272</th>\n",
       "      <td>착각이였나보네ㅋㅋ</td>\n",
       "      <td>상대의 의중을 알긴 쉽지 않죠.</td>\n",
       "      <td>1</td>\n",
       "    </tr>\n",
       "    <tr>\n",
       "      <th>8321</th>\n",
       "      <td>첫이별 너무힘드네 ㅠㅠ</td>\n",
       "      <td>처음이라 더 힘들 거예요.</td>\n",
       "      <td>1</td>\n",
       "    </tr>\n",
       "    <tr>\n",
       "      <th>8407</th>\n",
       "      <td>하루에도ㅠㅠ</td>\n",
       "      <td>수십번 생각이 나나 봐요.</td>\n",
       "      <td>1</td>\n",
       "    </tr>\n",
       "    <tr>\n",
       "      <th>8414</th>\n",
       "      <td>하아 너무 많이 힘드네 ㅜㅜ</td>\n",
       "      <td>맛있는 거라도 먹고 기분을 전환 해보세요.</td>\n",
       "      <td>1</td>\n",
       "    </tr>\n",
       "    <tr>\n",
       "      <th>8462</th>\n",
       "      <td>한심하네ㅜㅜ</td>\n",
       "      <td>자책하지 말아요.</td>\n",
       "      <td>1</td>\n",
       "    </tr>\n",
       "    <tr>\n",
       "      <th>8719</th>\n",
       "      <td>헤어짐 ㅠㅠ</td>\n",
       "      <td>힘내요.</td>\n",
       "      <td>1</td>\n",
       "    </tr>\n",
       "    <tr>\n",
       "      <th>8758</th>\n",
       "      <td>혼자ㅠㅠㅠ</td>\n",
       "      <td>많이 힘들어하지 마요.</td>\n",
       "      <td>1</td>\n",
       "    </tr>\n",
       "    <tr>\n",
       "      <th>8770</th>\n",
       "      <td>환승이별 당했습니다 ㅎㅎㅎ</td>\n",
       "      <td>사랑의 예의가 없는 사람이네요.</td>\n",
       "      <td>1</td>\n",
       "    </tr>\n",
       "    <tr>\n",
       "      <th>8778</th>\n",
       "      <td>황당하지만 재미난 일이 생겼네ㅎㅎ</td>\n",
       "      <td>무슨 일인지 말씀해주세요.</td>\n",
       "      <td>1</td>\n",
       "    </tr>\n",
       "    <tr>\n",
       "      <th>8787</th>\n",
       "      <td>후.ㅎㅎ</td>\n",
       "      <td>지쳤나봐요.</td>\n",
       "      <td>1</td>\n",
       "    </tr>\n",
       "    <tr>\n",
       "      <th>8819</th>\n",
       "      <td>흐잌~~ 불금이닷~~ㅠㅠ</td>\n",
       "      <td>퐈이야</td>\n",
       "      <td>1</td>\n",
       "    </tr>\n",
       "    <tr>\n",
       "      <th>10773</th>\n",
       "      <td>예쁘면 다냐ㅠㅠ</td>\n",
       "      <td>마음 아프게 했나봐요.</td>\n",
       "      <td>2</td>\n",
       "    </tr>\n",
       "  </tbody>\n",
       "</table>\n",
       "</div>"
      ],
      "text/plain": [
       "                                   Q                                    A  \\\n",
       "7                     SNS 맞팔 왜 안하지ㅠㅠ                     잘 모르고 있을 수도 있어요.   \n",
       "211                     공무원 시험 힘들어ㅠㅠ                     철밥통 되기가 어디 쉽겠어요.   \n",
       "1153                 단둘이는 처음 만나는 날ㅋㅋ                  서로를 아는 좋은 기회가 되겠네요.   \n",
       "2104                    보일러 틀고 나갔어ㅠㅠ                   이번달 난방비가 많이 나오겠네요.   \n",
       "2229                         비트코인 ㅜㅜ                        안타깝지만 잊어버리세요.   \n",
       "2936                안경 벗었는데 차이가 없어ㅋㅋ                             이게 정상이죠.   \n",
       "5240                   회식 좀 그만 했으면ㅜㅜ                         가기 싫어도 가야겠죠.   \n",
       "5738                             꿈ㅠㅠ                             꿈에 나왔나요.   \n",
       "5786                      나만 구질하게.ㅜㅜ                         구질구질해도 괜찮아요.   \n",
       "5811                        난 또 바보ㅠㅠ                 바보를 사랑하는 사람이 있을 거예요.   \n",
       "6058               다시 한번 더 붙잡고 싶어 ㅠㅠ                   후회하지 않는다면 지금 잡으세요.   \n",
       "6063                     다시 힘들어지네 ㅠㅠ                     힘든 건 익숙해지지가 않아요.   \n",
       "6137                 따뜻한 봄이 다시 왔네 ㅎㅎ                          봄은 항상 돌아오죠.   \n",
       "6163                    또 일주일도 못가서ㅎㅎ                            연락을 하셨군요.   \n",
       "6270       매번 왜 이렇게 남는게 후회인지 모르겠네 ㅎㅎ                모든 일에는 후회가 남기 마련인가봐요.   \n",
       "6556          비오니까 같이 막걸리먹던게 생각나네ㅎㅎㅎ                             한 잔 드세요!   \n",
       "6708                    손가락이 원망스럽네ㅜㅜ                             실수했나봅니다.   \n",
       "6786                  신청했더니 정말로 왔네ㅎㅎ                          좋은 결과길 바라요.   \n",
       "6819                      아 오늘 힘드네ㅜㅜ                   당신이 힘들지 않았으면 좋겠어요.   \n",
       "6967                      어제 연락햇는데ㅋㅋ                              말씀해보세요.   \n",
       "6979     어제 헤어진 여자친구 연락 왔다고 글 썼는데 ㅋㅋ                       좋은 연락이었길 바랍니다.   \n",
       "7179                      오늘따라 미치네ㅜㅜ                             답답한가봅니다.   \n",
       "7211                  오해했네 그리고 차단 ㅎㅎ                차단하는게 서로에게 좋을 때가 있어요.   \n",
       "7364                     이러다 병걸리겠어ㅠㅠ              아프면 안 돼요. 그럼 제 마음이 아파요.   \n",
       "7771       이혼을 하고싶진 않는데 너무견디기힘듭니다 ㅠㅠ                인연이 거기까지였다고 생각하기로 해요.   \n",
       "7952              저만 이렇게 힘든거 아니죠 ㅠㅠ?                       혼자만 힘든 거 아니에요.   \n",
       "7988            전남친한테 한달만에 연락하고싶어 ㅠㅠ     달라지는 게 없다면 만나지 않는 게 더 나을 수도 있어요.   \n",
       "7997                        전여친생일 ㅎㅎ            미련이 아닐까요? 생각하지 않았으면 좋겠어요.   \n",
       "8008   점심시간잠깐 그녀가 저에게 했던 말들이 떠오르네~ㅠㅠ                    생각을 접어두는 것도 필요해요.   \n",
       "8026              정말 너를 받아준게 아니였어.ㅠㅠ  그때의 나를 자책하지 말아요. 무슨 선택을 하든 당신을 믿어요.   \n",
       "8046                       정말 숨막혀 ㅠㅠ                         자신을 옥죄지 마세요.   \n",
       "8132                    조언 좀 해주세요 ㅠㅠ                            네 말씀해주세요.   \n",
       "8200                지옥같은 5월이 다가 오네ㅜㅜ                           천국과 지옥이네요.   \n",
       "8217                     진짜 어의 없네.ㅠㅠ                           저한테 말해보세요.   \n",
       "8258    쭉 괜찮다가 오늘 갑자기 너무 보고싶고 생각나네ㅠㅠ            그런 날이 있더라고요. 다른 생각을 해보세요.   \n",
       "8272                       착각이였나보네ㅋㅋ                    상대의 의중을 알긴 쉽지 않죠.   \n",
       "8321                    첫이별 너무힘드네 ㅠㅠ                       처음이라 더 힘들 거예요.   \n",
       "8407                          하루에도ㅠㅠ                       수십번 생각이 나나 봐요.   \n",
       "8414                 하아 너무 많이 힘드네 ㅜㅜ              맛있는 거라도 먹고 기분을 전환 해보세요.   \n",
       "8462                          한심하네ㅜㅜ                            자책하지 말아요.   \n",
       "8719                          헤어짐 ㅠㅠ                                 힘내요.   \n",
       "8758                           혼자ㅠㅠㅠ                         많이 힘들어하지 마요.   \n",
       "8770                  환승이별 당했습니다 ㅎㅎㅎ                    사랑의 예의가 없는 사람이네요.   \n",
       "8778              황당하지만 재미난 일이 생겼네ㅎㅎ                       무슨 일인지 말씀해주세요.   \n",
       "8787                            후.ㅎㅎ                               지쳤나봐요.   \n",
       "8819                   흐잌~~ 불금이닷~~ㅠㅠ                                  퐈이야   \n",
       "10773                       예쁘면 다냐ㅠㅠ                         마음 아프게 했나봐요.   \n",
       "\n",
       "       label  \n",
       "7          0  \n",
       "211        0  \n",
       "1153       0  \n",
       "2104       0  \n",
       "2229       0  \n",
       "2936       0  \n",
       "5240       0  \n",
       "5738       1  \n",
       "5786       1  \n",
       "5811       1  \n",
       "6058       1  \n",
       "6063       1  \n",
       "6137       1  \n",
       "6163       1  \n",
       "6270       1  \n",
       "6556       1  \n",
       "6708       1  \n",
       "6786       1  \n",
       "6819       1  \n",
       "6967       1  \n",
       "6979       1  \n",
       "7179       1  \n",
       "7211       1  \n",
       "7364       1  \n",
       "7771       1  \n",
       "7952       1  \n",
       "7988       1  \n",
       "7997       1  \n",
       "8008       1  \n",
       "8026       1  \n",
       "8046       1  \n",
       "8132       1  \n",
       "8200       1  \n",
       "8217       1  \n",
       "8258       1  \n",
       "8272       1  \n",
       "8321       1  \n",
       "8407       1  \n",
       "8414       1  \n",
       "8462       1  \n",
       "8719       1  \n",
       "8758       1  \n",
       "8770       1  \n",
       "8778       1  \n",
       "8787       1  \n",
       "8819       1  \n",
       "10773      2  "
      ]
     },
     "metadata": {},
     "output_type": "display_data"
    },
    {
     "data": {
      "text/html": [
       "<div>\n",
       "<style scoped>\n",
       "    .dataframe tbody tr th:only-of-type {\n",
       "        vertical-align: middle;\n",
       "    }\n",
       "\n",
       "    .dataframe tbody tr th {\n",
       "        vertical-align: top;\n",
       "    }\n",
       "\n",
       "    .dataframe thead th {\n",
       "        text-align: right;\n",
       "    }\n",
       "</style>\n",
       "<table border=\"1\" class=\"dataframe\">\n",
       "  <thead>\n",
       "    <tr style=\"text-align: right;\">\n",
       "      <th></th>\n",
       "      <th>Q</th>\n",
       "      <th>A</th>\n",
       "      <th>label</th>\n",
       "    </tr>\n",
       "  </thead>\n",
       "  <tbody>\n",
       "    <tr>\n",
       "      <th>8815</th>\n",
       "      <td>휴우.</td>\n",
       "      <td>휴우ㅠㅠ</td>\n",
       "      <td>1</td>\n",
       "    </tr>\n",
       "  </tbody>\n",
       "</table>\n",
       "</div>"
      ],
      "text/plain": [
       "        Q     A  label\n",
       "8815  휴우.  휴우ㅠㅠ      1"
      ]
     },
     "metadata": {},
     "output_type": "display_data"
    }
   ],
   "source": [
    "contatins_q_df = train_data[train_data['Q'].str.contains(r'(ㅋ{2,}|ㅎ{2,}|ㅜ{2,}|ㅠ{2,})')]\n",
    "contatins_a_df = train_data[train_data['A'].str.contains(r'(ㅋ{2,}|ㅎ{2,}|ㅜ{2,}|ㅠ{2,})')]\n",
    "display(contatins_q_df)\n",
    "display(contatins_a_df)"
   ]
  },
  {
   "cell_type": "markdown",
   "id": "bbfabc13",
   "metadata": {},
   "source": [
    "## 데이터 확인 2\n",
    "- 사람이라면 ㅋㅋ, ㅎㅎ, ㅜㅜ, ㅠㅠ 등을 여러번 꾹 눌러서 썼을 경우가 많은데 데이터에서는 평균2번, 최대 3번을 사용 하였기에\n",
    "    이미 데이터가 처리 되었다는 것으로 간주 하겠습니다."
   ]
  },
  {
   "cell_type": "markdown",
   "id": "c6a64d49",
   "metadata": {},
   "source": [
    "## 데이터 전처리"
   ]
  },
  {
   "cell_type": "markdown",
   "id": "04591085",
   "metadata": {},
   "source": [
    "### Q와 A 데이터 분할 및 구두점에 대해서 띄어 쓰기"
   ]
  },
  {
   "cell_type": "code",
   "execution_count": 10,
   "id": "3da999c6",
   "metadata": {},
   "outputs": [],
   "source": [
    "questions = []\n",
    "for sentence in train_data['Q']:\n",
    "    # 구두점에 대해서 띄어쓰기\n",
    "    # ex) 12시 땡! -> 12시 땡 !\n",
    "    sentence = re.sub(r\"([?.!,])\", r\" \\1 \", sentence)\n",
    "    sentence = sentence.strip()\n",
    "    questions.append(sentence)"
   ]
  },
  {
   "cell_type": "code",
   "execution_count": 11,
   "id": "542c4ba1",
   "metadata": {},
   "outputs": [],
   "source": [
    "answers = []\n",
    "for sentence in train_data['A']:\n",
    "    # 구두점에 대해서 띄어쓰기\n",
    "    # ex) 12시 땡! -> 12시 땡 !\n",
    "    sentence = re.sub(r\"([?.!,])\", r\" \\1 \", sentence)\n",
    "    sentence = sentence.strip()\n",
    "    answers.append(sentence)"
   ]
  },
  {
   "cell_type": "code",
   "execution_count": 12,
   "id": "5eb79c67",
   "metadata": {},
   "outputs": [
    {
     "name": "stdout",
     "output_type": "stream",
     "text": [
      "['12시 땡 !', '1지망 학교 떨어졌어', '3박4일 놀러가고 싶다', '3박4일 정도 놀러가고 싶다', 'PPL 심하네']\n"
     ]
    }
   ],
   "source": [
    "print(questions[:5])"
   ]
  },
  {
   "cell_type": "code",
   "execution_count": 13,
   "id": "32e1192f",
   "metadata": {},
   "outputs": [
    {
     "name": "stdout",
     "output_type": "stream",
     "text": [
      "['하루가 또 가네요 .', '위로해 드립니다 .', '여행은 언제나 좋죠 .', '여행은 언제나 좋죠 .', '눈살이 찌푸려지죠 .']\n"
     ]
    }
   ],
   "source": [
    "print(answers[:5])"
   ]
  },
  {
   "cell_type": "code",
   "execution_count": 14,
   "id": "d45bbdf1",
   "metadata": {},
   "outputs": [
    {
     "name": "stdout",
     "output_type": "stream",
     "text": [
      "질문 : 가스비 비싼데 감기 걸리겠어\n",
      "답변 : 따뜻하게 사세요 !\n"
     ]
    }
   ],
   "source": [
    "print(f\"질문 : {questions[20]}\\n\"\n",
    "      f\"답변 : {answers[20]}\")"
   ]
  },
  {
   "cell_type": "markdown",
   "id": "ca62ad92",
   "metadata": {},
   "source": [
    "## 토큰화 진행하기"
   ]
  },
  {
   "cell_type": "code",
   "execution_count": 15,
   "id": "e374eb6f",
   "metadata": {},
   "outputs": [],
   "source": [
    "tokenizer = tfds.deprecated.text.SubwordTextEncoder.build_from_corpus(\n",
    "    questions + answers, target_vocab_size = 2 ** 13)"
   ]
  },
  {
   "cell_type": "code",
   "execution_count": 16,
   "id": "c748c9ef",
   "metadata": {},
   "outputs": [],
   "source": [
    "START_TOKEN, END_TOKEN = [tokenizer.vocab_size], [tokenizer.vocab_size + 1]"
   ]
  },
  {
   "cell_type": "code",
   "execution_count": 17,
   "id": "0152330c",
   "metadata": {},
   "outputs": [],
   "source": [
    "VOCAB_SIZE = tokenizer.vocab_size + 2"
   ]
  },
  {
   "cell_type": "code",
   "execution_count": 18,
   "id": "fcca77b3",
   "metadata": {},
   "outputs": [
    {
     "name": "stdout",
     "output_type": "stream",
     "text": [
      "시작 토큰 번호 : [8178]\n",
      "종료 토큰 번호 : [8179]\n",
      "단어 집합의 크기 : 8180\n"
     ]
    }
   ],
   "source": [
    "# target_vocab_size가 2^13인 경우에도 원래 8172가 나와야 하는데\n",
    "# 사용된 단어 수가 더 많아서 크기가 증가한다고 합니다.\n",
    "print('시작 토큰 번호 :',START_TOKEN)\n",
    "print('종료 토큰 번호 :',END_TOKEN)\n",
    "print('단어 집합의 크기 :',VOCAB_SIZE)"
   ]
  },
  {
   "cell_type": "code",
   "execution_count": 19,
   "id": "cc0b8ed4",
   "metadata": {},
   "outputs": [
    {
     "name": "stdout",
     "output_type": "stream",
     "text": [
      "Tokenized sample question: [5766, 611, 3509, 141, 685, 3747, 849]\n",
      "Tokenized sample answers: [2343, 514, 41]\n"
     ]
    }
   ],
   "source": [
    "# 서브워드텍스트인코더 토크나이저의 .encode()를 사용하여 텍스트 시퀀스를 정수 시퀀스로 변환.\n",
    "print(f'Tokenized sample question: {tokenizer.encode(questions[20])}')\n",
    "print(f'Tokenized sample answers: {tokenizer.encode(answers[20])}')"
   ]
  },
  {
   "cell_type": "code",
   "execution_count": 20,
   "id": "9e6a3234",
   "metadata": {},
   "outputs": [
    {
     "name": "stdout",
     "output_type": "stream",
     "text": [
      "정수 인코딩 : [1941, 460]\n",
      "기존 문장: 거지됐어\n"
     ]
    }
   ],
   "source": [
    "# 서브워드텍스트인코더 토크나이저의 .encode()와 decode() 테스트해보기\n",
    "\n",
    "# 임의의 입력 문장을 sample_string에 저장\n",
    "sample_string = questions[100]\n",
    "\n",
    "# encode() : 텍스트 시퀀스 --> 정수 시퀀스\n",
    "tokenized_string = tokenizer.encode(sample_string)\n",
    "print(f'정수 인코딩 : {tokenized_string}')\n",
    "\n",
    "# decode() : 정수 시퀀스 --> 텍스트 시퀀스\n",
    "original_string = tokenizer.decode(tokenized_string)\n",
    "print (f'기존 문장: {original_string}')"
   ]
  },
  {
   "cell_type": "code",
   "execution_count": 21,
   "id": "87576f14",
   "metadata": {},
   "outputs": [
    {
     "name": "stdout",
     "output_type": "stream",
     "text": [
      "1941 ----> 거지\n",
      "460 ----> 됐어\n"
     ]
    }
   ],
   "source": [
    "for ts in tokenized_string:\n",
    "  print (f'{ts} ----> {tokenizer.decode([ts])}')"
   ]
  },
  {
   "cell_type": "code",
   "execution_count": 22,
   "id": "671daedf",
   "metadata": {},
   "outputs": [],
   "source": [
    "# 최대 길이를 40으로 정의\n",
    "MAX_LENGTH = 40\n",
    "\n",
    "# 토큰화 / 정수 인코딩 / 시작 토큰과 종료 토큰 추가 / 패딩\n",
    "def tokenize_and_filter(inputs, outputs):\n",
    "  tokenized_inputs, tokenized_outputs = [], []\n",
    "  \n",
    "  for (sentence1, sentence2) in zip(inputs, outputs):\n",
    "    # encode(토큰화 + 정수 인코딩), 시작 토큰과 종료 토큰 추가\n",
    "    sentence1 = START_TOKEN + tokenizer.encode(sentence1) + END_TOKEN\n",
    "    sentence2 = START_TOKEN + tokenizer.encode(sentence2) + END_TOKEN\n",
    "\n",
    "    tokenized_inputs.append(sentence1)\n",
    "    tokenized_outputs.append(sentence2)\n",
    "  \n",
    "  # 패딩\n",
    "  tokenized_inputs = tf.keras.preprocessing.sequence.pad_sequences(\n",
    "      tokenized_inputs, maxlen=MAX_LENGTH, padding='post')\n",
    "  tokenized_outputs = tf.keras.preprocessing.sequence.pad_sequences(\n",
    "      tokenized_outputs, maxlen=MAX_LENGTH, padding='post')\n",
    "  \n",
    "  return tokenized_inputs, tokenized_outputs"
   ]
  },
  {
   "cell_type": "code",
   "execution_count": 23,
   "id": "6ea838d7",
   "metadata": {},
   "outputs": [],
   "source": [
    "questions, answers = tokenize_and_filter(questions, answers)"
   ]
  },
  {
   "cell_type": "code",
   "execution_count": 24,
   "id": "b4a4f66a",
   "metadata": {},
   "outputs": [
    {
     "name": "stdout",
     "output_type": "stream",
     "text": [
      "질문 데이터의 크기(shape) : (11823, 40)\n",
      "답변 데이터의 크기(shape) : (11823, 40)\n"
     ]
    }
   ],
   "source": [
    "print('질문 데이터의 크기(shape) :', questions.shape)\n",
    "print('답변 데이터의 크기(shape) :', answers.shape)"
   ]
  },
  {
   "cell_type": "code",
   "execution_count": 25,
   "id": "f31dc48d",
   "metadata": {},
   "outputs": [
    {
     "name": "stdout",
     "output_type": "stream",
     "text": [
      "[8178 7915 4207 3060   41 8179    0    0    0    0    0    0    0    0\n",
      "    0    0    0    0    0    0    0    0    0    0    0    0    0    0\n",
      "    0    0    0    0    0    0    0    0    0    0    0    0]\n",
      "[8178 3844   74 7894    1 8179    0    0    0    0    0    0    0    0\n",
      "    0    0    0    0    0    0    0    0    0    0    0    0    0    0\n",
      "    0    0    0    0    0    0    0    0    0    0    0    0]\n"
     ]
    }
   ],
   "source": [
    "# 0번째 샘플을 임의로 출력\n",
    "print(questions[0])\n",
    "print(answers[0])"
   ]
  },
  {
   "cell_type": "markdown",
   "id": "fa227ff5",
   "metadata": {},
   "source": [
    "\\[8178 7915 4207 3060   41 8179    0    0    0    0    0    0    0    0\n",
    "    0    0    0    0    0    0    0    0    0    0    0    0    0    0\n",
    "    0    0    0    0    0    0    0    0    0    0    0    0\\]\n",
    "이 부분을 보면 start 부분인 8178과 끝나는 부분인 8179 안에 내용물들의 정수들이 들어있고, 최대문장 길이를 40으로 주었기때문에 나머지 0들은 padding 값이다."
   ]
  },
  {
   "cell_type": "code",
   "execution_count": 26,
   "id": "5db07caa",
   "metadata": {},
   "outputs": [
    {
     "name": "stdout",
     "output_type": "stream",
     "text": [
      "단어 집합의 크기(Vocab size): 8180\n",
      "전체 샘플의 수(Number of samples): 11823\n"
     ]
    }
   ],
   "source": [
    "print('단어 집합의 크기(Vocab size): {}'.format(VOCAB_SIZE))\n",
    "print('전체 샘플의 수(Number of samples): {}'.format(len(questions)))"
   ]
  },
  {
   "cell_type": "code",
   "execution_count": 27,
   "id": "3eafad87",
   "metadata": {},
   "outputs": [],
   "source": [
    "# 텐서플로우 dataset을 이용하여 셔플(shuffle)을 수행하되, 배치 크기로 데이터를 묶는다.\n",
    "# 또한 이 과정에서 교사 강요(teacher forcing)을 사용하기 위해서 디코더의 입력과 실제값 시퀀스를 구성한다.\n",
    "BATCH_SIZE = 64\n",
    "BUFFER_SIZE = 20000\n",
    "\n",
    "# 디코더의 실제값 시퀀스에서는 시작 토큰을 제거해야 한다.\n",
    "dataset = tf.data.Dataset.from_tensor_slices((\n",
    "    {\n",
    "        'inputs': questions,\n",
    "        'dec_inputs': answers[:, :-1] # 디코더의 입력. 마지막 패딩 토큰이 제거된다.\n",
    "    },\n",
    "    {\n",
    "        'outputs': answers[:, 1:]  # 맨 처음 토큰이 제거된다. 다시 말해 시작 토큰이 제거된다.\n",
    "    },\n",
    "))\n",
    "\n",
    "dataset = dataset.cache()\n",
    "dataset = dataset.shuffle(BUFFER_SIZE)\n",
    "dataset = dataset.batch(BATCH_SIZE)\n",
    "dataset = dataset.prefetch(tf.data.experimental.AUTOTUNE)"
   ]
  },
  {
   "cell_type": "code",
   "execution_count": 28,
   "id": "e803c0be",
   "metadata": {},
   "outputs": [
    {
     "name": "stdout",
     "output_type": "stream",
     "text": [
      "[8178 3844   74 7894    1 8179    0    0    0    0    0    0    0    0\n",
      "    0    0    0    0    0    0    0    0    0    0    0    0    0    0\n",
      "    0    0    0    0    0    0    0    0    0    0    0    0]\n",
      "[[8178 3844   74 7894    1 8179    0    0    0    0    0    0    0    0\n",
      "     0    0    0    0    0    0    0    0    0    0    0    0    0    0\n",
      "     0    0    0    0    0    0    0    0    0    0    0]]\n",
      "[[3844   74 7894    1 8179    0    0    0    0    0    0    0    0    0\n",
      "     0    0    0    0    0    0    0    0    0    0    0    0    0    0\n",
      "     0    0    0    0    0    0    0    0    0    0    0]]\n"
     ]
    }
   ],
   "source": [
    "# 임의의 샘플에 대해서 [:, :-1]과 [:, 1:]이 어떤 의미를 가지는지 테스트해본다.\n",
    "print(answers[0]) # 기존 샘플\n",
    "print(answers[:1][:, :-1]) # 마지막 패딩 토큰 제거하면서 길이가 39가 된다.\n",
    "print(answers[:1][:, 1:]) # 맨 처음 토큰이 제거된다. 다시 말해 시작 토큰이 제거된다. 길이는 역시 39가 된다."
   ]
  },
  {
   "cell_type": "code",
   "execution_count": 29,
   "id": "506ff742",
   "metadata": {},
   "outputs": [],
   "source": [
    "class PositionalEncoding(tf.keras.layers.Layer):\n",
    "  def __init__(self, position, d_model):\n",
    "    super(PositionalEncoding, self).__init__()\n",
    "    self.pos_encoding = self.positional_encoding(position, d_model)\n",
    "\n",
    "  def get_angles(self, position, i, d_model):\n",
    "    angles = 1 / tf.pow(10000, (2 * (i // 2)) / tf.cast(d_model, tf.float32))\n",
    "    return position * angles\n",
    "\n",
    "  def positional_encoding(self, position, d_model):\n",
    "    angle_rads = self.get_angles(\n",
    "        position=tf.range(position, dtype=tf.float32)[:, tf.newaxis],\n",
    "        i=tf.range(d_model, dtype=tf.float32)[tf.newaxis, :],\n",
    "        d_model=d_model)\n",
    "\n",
    "    # 배열의 짝수 인덱스(2i)에는 사인 함수 적용\n",
    "    sines = tf.math.sin(angle_rads[:, 0::2])\n",
    "\n",
    "    # 배열의 홀수 인덱스(2i+1)에는 코사인 함수 적용\n",
    "    cosines = tf.math.cos(angle_rads[:, 1::2])\n",
    "\n",
    "    angle_rads = np.zeros(angle_rads.shape)\n",
    "    angle_rads[:, 0::2] = sines\n",
    "    angle_rads[:, 1::2] = cosines\n",
    "    pos_encoding = tf.constant(angle_rads)\n",
    "    pos_encoding = pos_encoding[tf.newaxis, ...]\n",
    "\n",
    "    print(pos_encoding.shape)\n",
    "    return tf.cast(pos_encoding, tf.float32)\n",
    "\n",
    "  def call(self, inputs):\n",
    "    return inputs + self.pos_encoding[:, :tf.shape(inputs)[1], :]"
   ]
  },
  {
   "cell_type": "code",
   "execution_count": 30,
   "id": "3901b58a",
   "metadata": {},
   "outputs": [],
   "source": [
    "def scaled_dot_product_attention(query, key, value, mask):\n",
    "  # query 크기 : (batch_size, num_heads, query의 문장 길이, d_model/num_heads)\n",
    "  # key 크기 : (batch_size, num_heads, key의 문장 길이, d_model/num_heads)\n",
    "  # value 크기 : (batch_size, num_heads, value의 문장 길이, d_model/num_heads)\n",
    "  # padding_mask : (batch_size, 1, 1, key의 문장 길이)\n",
    "\n",
    "  # Q와 K의 곱. 어텐션 스코어 행렬.\n",
    "  matmul_qk = tf.matmul(query, key, transpose_b=True)\n",
    "\n",
    "  # 스케일링\n",
    "  # dk의 루트값으로 나눠준다.\n",
    "  depth = tf.cast(tf.shape(key)[-1], tf.float32)\n",
    "  logits = matmul_qk / tf.math.sqrt(depth)\n",
    "\n",
    "  # 마스킹. 어텐션 스코어 행렬의 마스킹 할 위치에 매우 작은 음수값을 넣는다.\n",
    "  # 매우 작은 값이므로 소프트맥스 함수를 지나면 행렬의 해당 위치의 값은 0이 된다.\n",
    "  if mask is not None:\n",
    "    logits += (mask * -1e9)\n",
    "\n",
    "  # 소프트맥스 함수는 마지막 차원인 key의 문장 길이 방향으로 수행된다.\n",
    "  # attention weight : (batch_size, num_heads, query의 문장 길이, key의 문장 길이)\n",
    "  attention_weights = tf.nn.softmax(logits, axis=-1)\n",
    "\n",
    "  # output : (batch_size, num_heads, query의 문장 길이, d_model/num_heads)\n",
    "  output = tf.matmul(attention_weights, value)\n",
    "\n",
    "  return output, attention_weights"
   ]
  },
  {
   "cell_type": "code",
   "execution_count": 31,
   "id": "65ab253c",
   "metadata": {},
   "outputs": [],
   "source": [
    "class MultiHeadAttention(tf.keras.layers.Layer):\n",
    "\n",
    "  def __init__(self, d_model, num_heads, name=\"multi_head_attention\"):\n",
    "    super(MultiHeadAttention, self).__init__(name=name)\n",
    "    self.num_heads = num_heads\n",
    "    self.d_model = d_model\n",
    "\n",
    "    assert d_model % self.num_heads == 0\n",
    "\n",
    "    # d_model을 num_heads로 나눈 값.\n",
    "    # 논문 기준 : 64\n",
    "    self.depth = d_model // self.num_heads\n",
    "\n",
    "    # WQ, WK, WV에 해당하는 밀집층 정의\n",
    "    self.query_dense = tf.keras.layers.Dense(units=d_model)\n",
    "    self.key_dense = tf.keras.layers.Dense(units=d_model)\n",
    "    self.value_dense = tf.keras.layers.Dense(units=d_model)\n",
    "\n",
    "    # WO에 해당하는 밀집층 정의\n",
    "    self.dense = tf.keras.layers.Dense(units=d_model)\n",
    "\n",
    "  # num_heads 개수만큼 q, k, v를 split하는 함수\n",
    "  def split_heads(self, inputs, batch_size):\n",
    "    inputs = tf.reshape(\n",
    "        inputs, shape=(batch_size, -1, self.num_heads, self.depth))\n",
    "    return tf.transpose(inputs, perm=[0, 2, 1, 3])\n",
    "\n",
    "  def call(self, inputs):\n",
    "    query, key, value, mask = inputs['query'], inputs['key'], inputs[\n",
    "        'value'], inputs['mask']\n",
    "    batch_size = tf.shape(query)[0]\n",
    "\n",
    "    # 1. WQ, WK, WV에 해당하는 밀집층 지나기\n",
    "    # q : (batch_size, query의 문장 길이, d_model)\n",
    "    # k : (batch_size, key의 문장 길이, d_model)\n",
    "    # v : (batch_size, value의 문장 길이, d_model)\n",
    "    # 참고) 인코더(k, v)-디코더(q) 어텐션에서는 query 길이와 key, value의 길이는 다를 수 있다.\n",
    "    query = self.query_dense(query)\n",
    "    key = self.key_dense(key)\n",
    "    value = self.value_dense(value)\n",
    "\n",
    "    # 2. 헤드 나누기\n",
    "    # q : (batch_size, num_heads, query의 문장 길이, d_model/num_heads)\n",
    "    # k : (batch_size, num_heads, key의 문장 길이, d_model/num_heads)\n",
    "    # v : (batch_size, num_heads, value의 문장 길이, d_model/num_heads)\n",
    "    query = self.split_heads(query, batch_size)\n",
    "    key = self.split_heads(key, batch_size)\n",
    "    value = self.split_heads(value, batch_size)\n",
    "\n",
    "    # 3. 스케일드 닷 프로덕트 어텐션. 앞서 구현한 함수 사용.\n",
    "    # (batch_size, num_heads, query의 문장 길이, d_model/num_heads)\n",
    "    scaled_attention, _ = scaled_dot_product_attention(query, key, value, mask)\n",
    "    # (batch_size, query의 문장 길이, num_heads, d_model/num_heads)\n",
    "    scaled_attention = tf.transpose(scaled_attention, perm=[0, 2, 1, 3])\n",
    "\n",
    "    # 4. 헤드 연결(concatenate)하기\n",
    "    # (batch_size, query의 문장 길이, d_model)\n",
    "    concat_attention = tf.reshape(scaled_attention,\n",
    "                                  (batch_size, -1, self.d_model))\n",
    "\n",
    "    # 5. WO에 해당하는 밀집층 지나기\n",
    "    # (batch_size, query의 문장 길이, d_model)\n",
    "    outputs = self.dense(concat_attention)\n",
    "\n",
    "    return outputs"
   ]
  },
  {
   "cell_type": "code",
   "execution_count": 32,
   "id": "3d7e30ee",
   "metadata": {},
   "outputs": [],
   "source": [
    "def create_padding_mask(x):\n",
    "  mask = tf.cast(tf.math.equal(x, 0), tf.float32)\n",
    "  # (batch_size, 1, 1, key의 문장 길이)\n",
    "  return mask[:, tf.newaxis, tf.newaxis, :]"
   ]
  },
  {
   "cell_type": "code",
   "execution_count": 33,
   "id": "6fe29619",
   "metadata": {},
   "outputs": [],
   "source": [
    "def encoder_layer(dff, d_model, num_heads, dropout, name=\"encoder_layer\"):\n",
    "  inputs = tf.keras.Input(shape=(None, d_model), name=\"inputs\")\n",
    "\n",
    "  # 인코더는 패딩 마스크 사용\n",
    "  padding_mask = tf.keras.Input(shape=(1, 1, None), name=\"padding_mask\")\n",
    "\n",
    "  # 멀티-헤드 어텐션 (첫번째 서브층 / 셀프 어텐션)\n",
    "  attention = MultiHeadAttention(\n",
    "      d_model, num_heads, name=\"attention\")({\n",
    "          'query': inputs, 'key': inputs, 'value': inputs, # Q = K = V\n",
    "          'mask': padding_mask # 패딩 마스크 사용\n",
    "      })\n",
    "\n",
    "  # 드롭아웃 + 잔차 연결과 층 정규화\n",
    "  attention = tf.keras.layers.Dropout(rate=dropout)(attention)\n",
    "  attention = tf.keras.layers.LayerNormalization(\n",
    "      epsilon=1e-6)(inputs + attention)\n",
    "\n",
    "  # 포지션 와이즈 피드 포워드 신경망 (두번째 서브층)\n",
    "  outputs = tf.keras.layers.Dense(units=dff, activation='relu')(attention)\n",
    "  outputs = tf.keras.layers.Dense(units=d_model)(outputs)\n",
    "\n",
    "  # 드롭아웃 + 잔차 연결과 층 정규화\n",
    "  outputs = tf.keras.layers.Dropout(rate=dropout)(outputs)\n",
    "  outputs = tf.keras.layers.LayerNormalization(\n",
    "      epsilon=1e-6)(attention + outputs)\n",
    "\n",
    "  return tf.keras.Model(\n",
    "      inputs=[inputs, padding_mask], outputs=outputs, name=name)"
   ]
  },
  {
   "cell_type": "code",
   "execution_count": 34,
   "id": "e126826b",
   "metadata": {},
   "outputs": [],
   "source": [
    "def encoder(vocab_size, num_layers, dff,\n",
    "            d_model, num_heads, dropout,\n",
    "            name=\"encoder\"):\n",
    "  inputs = tf.keras.Input(shape=(None,), name=\"inputs\")\n",
    "\n",
    "  # 인코더는 패딩 마스크 사용\n",
    "  padding_mask = tf.keras.Input(shape=(1, 1, None), name=\"padding_mask\")\n",
    "\n",
    "  # 포지셔널 인코딩 + 드롭아웃\n",
    "  embeddings = tf.keras.layers.Embedding(vocab_size, d_model)(inputs)\n",
    "  embeddings *= tf.math.sqrt(tf.cast(d_model, tf.float32))\n",
    "  embeddings = PositionalEncoding(vocab_size, d_model)(embeddings)\n",
    "  outputs = tf.keras.layers.Dropout(rate=dropout)(embeddings)\n",
    "\n",
    "  # 인코더를 num_layers개 쌓기\n",
    "  for i in range(num_layers):\n",
    "    outputs = encoder_layer(dff=dff, d_model=d_model, num_heads=num_heads,\n",
    "        dropout=dropout, name=\"encoder_layer_{}\".format(i),\n",
    "    )([outputs, padding_mask])\n",
    "\n",
    "  return tf.keras.Model(\n",
    "      inputs=[inputs, padding_mask], outputs=outputs, name=name)"
   ]
  },
  {
   "cell_type": "code",
   "execution_count": 35,
   "id": "819f6aa1",
   "metadata": {},
   "outputs": [],
   "source": [
    "# 디코더의 첫번째 서브층(sublayer)에서 미래 토큰을 Mask하는 함수\n",
    "def create_look_ahead_mask(x):\n",
    "  seq_len = tf.shape(x)[1]\n",
    "  look_ahead_mask = 1 - tf.linalg.band_part(tf.ones((seq_len, seq_len)), -1, 0)\n",
    "  padding_mask = create_padding_mask(x) # 패딩 마스크도 포함\n",
    "  return tf.maximum(look_ahead_mask, padding_mask)"
   ]
  },
  {
   "cell_type": "code",
   "execution_count": 36,
   "id": "6c01016b",
   "metadata": {},
   "outputs": [],
   "source": [
    "def decoder_layer(dff, d_model, num_heads, dropout, name=\"decoder_layer\"):\n",
    "  inputs = tf.keras.Input(shape=(None, d_model), name=\"inputs\")\n",
    "  enc_outputs = tf.keras.Input(shape=(None, d_model), name=\"encoder_outputs\")\n",
    "\n",
    "  # 디코더는 룩어헤드 마스크(첫번째 서브층)와 패딩 마스크(두번째 서브층) 둘 다 사용.\n",
    "  look_ahead_mask = tf.keras.Input(\n",
    "      shape=(1, None, None), name=\"look_ahead_mask\")\n",
    "  padding_mask = tf.keras.Input(shape=(1, 1, None), name='padding_mask')\n",
    "\n",
    "  # 멀티-헤드 어텐션 (첫번째 서브층 / 마스크드 셀프 어텐션)\n",
    "  attention1 = MultiHeadAttention(\n",
    "      d_model, num_heads, name=\"attention_1\")(inputs={\n",
    "          'query': inputs, 'key': inputs, 'value': inputs, # Q = K = V\n",
    "          'mask': look_ahead_mask # 룩어헤드 마스크\n",
    "      })\n",
    "\n",
    "  # 잔차 연결과 층 정규화\n",
    "  attention1 = tf.keras.layers.LayerNormalization(\n",
    "      epsilon=1e-6)(attention1 + inputs)\n",
    "\n",
    "  # 멀티-헤드 어텐션 (두번째 서브층 / 디코더-인코더 어텐션)\n",
    "  attention2 = MultiHeadAttention(\n",
    "      d_model, num_heads, name=\"attention_2\")(inputs={\n",
    "          'query': attention1, 'key': enc_outputs, 'value': enc_outputs, # Q != K = V\n",
    "          'mask': padding_mask # 패딩 마스크\n",
    "      })\n",
    "\n",
    "  # 드롭아웃 + 잔차 연결과 층 정규화\n",
    "  attention2 = tf.keras.layers.Dropout(rate=dropout)(attention2)\n",
    "  attention2 = tf.keras.layers.LayerNormalization(\n",
    "      epsilon=1e-6)(attention2 + attention1)\n",
    "\n",
    "  # 포지션 와이즈 피드 포워드 신경망 (세번째 서브층)\n",
    "  outputs = tf.keras.layers.Dense(units=dff, activation='relu')(attention2)\n",
    "  outputs = tf.keras.layers.Dense(units=d_model)(outputs)\n",
    "\n",
    "  # 드롭아웃 + 잔차 연결과 층 정규화\n",
    "  outputs = tf.keras.layers.Dropout(rate=dropout)(outputs)\n",
    "  outputs = tf.keras.layers.LayerNormalization(\n",
    "      epsilon=1e-6)(outputs + attention2)\n",
    "\n",
    "  return tf.keras.Model(\n",
    "      inputs=[inputs, enc_outputs, look_ahead_mask, padding_mask],\n",
    "      outputs=outputs,\n",
    "      name=name)"
   ]
  },
  {
   "cell_type": "code",
   "execution_count": 37,
   "id": "6593ea4d",
   "metadata": {},
   "outputs": [],
   "source": [
    "def decoder(vocab_size, num_layers, dff,\n",
    "            d_model, num_heads, dropout,\n",
    "            name='decoder'):\n",
    "  inputs = tf.keras.Input(shape=(None,), name='inputs')\n",
    "  enc_outputs = tf.keras.Input(shape=(None, d_model), name='encoder_outputs')\n",
    "\n",
    "  # 디코더는 룩어헤드 마스크(첫번째 서브층)와 패딩 마스크(두번째 서브층) 둘 다 사용.\n",
    "  look_ahead_mask = tf.keras.Input(\n",
    "      shape=(1, None, None), name='look_ahead_mask')\n",
    "  padding_mask = tf.keras.Input(shape=(1, 1, None), name='padding_mask')\n",
    "\n",
    "  # 포지셔널 인코딩 + 드롭아웃\n",
    "  embeddings = tf.keras.layers.Embedding(vocab_size, d_model)(inputs)\n",
    "  embeddings *= tf.math.sqrt(tf.cast(d_model, tf.float32))\n",
    "  embeddings = PositionalEncoding(vocab_size, d_model)(embeddings)\n",
    "  outputs = tf.keras.layers.Dropout(rate=dropout)(embeddings)\n",
    "\n",
    "  # 디코더를 num_layers개 쌓기\n",
    "  for i in range(num_layers):\n",
    "    outputs = decoder_layer(dff=dff, d_model=d_model, num_heads=num_heads,\n",
    "        dropout=dropout, name='decoder_layer_{}'.format(i),\n",
    "    )(inputs=[outputs, enc_outputs, look_ahead_mask, padding_mask])\n",
    "\n",
    "  return tf.keras.Model(\n",
    "      inputs=[inputs, enc_outputs, look_ahead_mask, padding_mask],\n",
    "      outputs=outputs,\n",
    "      name=name)"
   ]
  },
  {
   "cell_type": "code",
   "execution_count": 38,
   "id": "3c36b9fe",
   "metadata": {},
   "outputs": [],
   "source": [
    "def transformer(vocab_size, num_layers, dff,\n",
    "                d_model, num_heads, dropout,\n",
    "                name=\"transformer\"):\n",
    "\n",
    "  # 인코더의 입력\n",
    "  inputs = tf.keras.Input(shape=(None,), name=\"inputs\")\n",
    "\n",
    "  # 디코더의 입력\n",
    "  dec_inputs = tf.keras.Input(shape=(None,), name=\"dec_inputs\")\n",
    "\n",
    "  # 인코더의 패딩 마스크\n",
    "  enc_padding_mask = tf.keras.layers.Lambda(\n",
    "      create_padding_mask, output_shape=(1, 1, None),\n",
    "      name='enc_padding_mask')(inputs)\n",
    "\n",
    "  # 디코더의 룩어헤드 마스크(첫번째 서브층)\n",
    "  look_ahead_mask = tf.keras.layers.Lambda(\n",
    "      create_look_ahead_mask, output_shape=(1, None, None),\n",
    "      name='look_ahead_mask')(dec_inputs)\n",
    "\n",
    "  # 디코더의 패딩 마스크(두번째 서브층)\n",
    "  dec_padding_mask = tf.keras.layers.Lambda(\n",
    "      create_padding_mask, output_shape=(1, 1, None),\n",
    "      name='dec_padding_mask')(inputs)\n",
    "\n",
    "  # 인코더의 출력은 enc_outputs. 디코더로 전달된다.\n",
    "  enc_outputs = encoder(vocab_size=vocab_size, num_layers=num_layers, dff=dff,\n",
    "      d_model=d_model, num_heads=num_heads, dropout=dropout,\n",
    "  )(inputs=[inputs, enc_padding_mask]) # 인코더의 입력은 입력 문장과 패딩 마스크\n",
    "\n",
    "  # 디코더의 출력은 dec_outputs. 출력층으로 전달된다.\n",
    "  dec_outputs = decoder(vocab_size=vocab_size, num_layers=num_layers, dff=dff,\n",
    "      d_model=d_model, num_heads=num_heads, dropout=dropout,\n",
    "  )(inputs=[dec_inputs, enc_outputs, look_ahead_mask, dec_padding_mask])\n",
    "\n",
    "  # 다음 단어 예측을 위한 출력층\n",
    "  outputs = tf.keras.layers.Dense(units=vocab_size, name=\"outputs\")(dec_outputs)\n",
    "\n",
    "  return tf.keras.Model(inputs=[inputs, dec_inputs], outputs=outputs, name=name)"
   ]
  },
  {
   "cell_type": "code",
   "execution_count": 39,
   "id": "39abef2b",
   "metadata": {},
   "outputs": [
    {
     "name": "stdout",
     "output_type": "stream",
     "text": [
      "(1, 9000, 128)\n",
      "(1, 9000, 128)\n"
     ]
    },
    {
     "data": {
      "image/png": "[encoded data removed]",
      "text/plain": [
       "<IPython.core.display.Image object>"
      ]
     },
     "execution_count": 39,
     "metadata": {},
     "output_type": "execute_result"
    }
   ],
   "source": [
    "small_transformer = transformer(\n",
    "    vocab_size = 9000,\n",
    "    num_layers = 4,\n",
    "    dff = 512,\n",
    "    d_model = 128,\n",
    "    num_heads = 4,\n",
    "    dropout = 0.3,\n",
    "    name=\"small_transformer\")\n",
    "\n",
    "tf.keras.utils.plot_model(\n",
    "    small_transformer, to_file='small_transformer.png', show_shapes=True)"
   ]
  },
  {
   "cell_type": "code",
   "execution_count": 40,
   "id": "6c9d3643",
   "metadata": {},
   "outputs": [],
   "source": [
    "def loss_function(y_true, y_pred):\n",
    "  y_true = tf.reshape(y_true, shape=(-1, MAX_LENGTH - 1))\n",
    "\n",
    "  loss = tf.keras.losses.SparseCategoricalCrossentropy(\n",
    "      from_logits=True, reduction='none')(y_true, y_pred)\n",
    "\n",
    "  mask = tf.cast(tf.not_equal(y_true, 0), tf.float32)\n",
    "  loss = tf.multiply(loss, mask)\n",
    "\n",
    "  return tf.reduce_mean(loss)"
   ]
  },
  {
   "cell_type": "code",
   "execution_count": 41,
   "id": "7351e0b5",
   "metadata": {},
   "outputs": [],
   "source": [
    "class CustomSchedule(tf.keras.optimizers.schedules.LearningRateSchedule):\n",
    "\n",
    "  def __init__(self, d_model, warmup_steps=4000):\n",
    "    super(CustomSchedule, self).__init__()\n",
    "    self.d_model = d_model\n",
    "    self.d_model = tf.cast(self.d_model, tf.float32)\n",
    "    self.warmup_steps = warmup_steps\n",
    "\n",
    "  def __call__(self, step):\n",
    "    arg1 = tf.math.rsqrt(step)\n",
    "    arg2 = step * (self.warmup_steps**-1.5)\n",
    "\n",
    "    return tf.math.rsqrt(self.d_model) * tf.math.minimum(arg1, arg2)"
   ]
  },
  {
   "cell_type": "code",
   "execution_count": 42,
   "id": "68361a44",
   "metadata": {},
   "outputs": [
    {
     "data": {
      "text/plain": [
       "Text(0.5, 0, 'Train Step')"
      ]
     },
     "execution_count": 42,
     "metadata": {},
     "output_type": "execute_result"
    },
    {
     "data": {
      "image/png": "[encoded data removed]",
      "text/plain": [
       "<Figure size 432x288 with 1 Axes>"
      ]
     },
     "metadata": {
      "needs_background": "light"
     },
     "output_type": "display_data"
    }
   ],
   "source": [
    "sample_learning_rate = CustomSchedule(d_model=128)\n",
    "\n",
    "plt.plot(sample_learning_rate(tf.range(200000, dtype=tf.float32)))\n",
    "plt.ylabel(\"Learning Rate\")\n",
    "plt.xlabel(\"Train Step\")"
   ]
  },
  {
   "cell_type": "code",
   "execution_count": 43,
   "id": "1ca40694",
   "metadata": {},
   "outputs": [
    {
     "name": "stdout",
     "output_type": "stream",
     "text": [
      "(1, 8180, 256)\n",
      "(1, 8180, 256)\n"
     ]
    }
   ],
   "source": [
    "tf.keras.backend.clear_session()\n",
    "\n",
    "# Hyper-parameters\n",
    "NUM_LAYERS = 2\n",
    "D_MODEL = 256\n",
    "NUM_HEADS = 8\n",
    "DFF = 512\n",
    "DROPOUT = 0.1\n",
    "\n",
    "model = transformer(\n",
    "    vocab_size=VOCAB_SIZE,\n",
    "    num_layers=NUM_LAYERS,\n",
    "    dff=DFF,\n",
    "    d_model=D_MODEL,\n",
    "    num_heads=NUM_HEADS,\n",
    "    dropout=DROPOUT)"
   ]
  },
  {
   "cell_type": "code",
   "execution_count": 44,
   "id": "229db84c",
   "metadata": {},
   "outputs": [],
   "source": [
    "MAX_LENGTH = 40\n",
    "\n",
    "learning_rate = CustomSchedule(D_MODEL)\n",
    "\n",
    "optimizer = tf.keras.optimizers.Adam(\n",
    "    learning_rate, beta_1=0.9, beta_2=0.98, epsilon=1e-9)\n",
    "\n",
    "def accuracy(y_true, y_pred):\n",
    "  # ensure labels have shape (batch_size, MAX_LENGTH - 1)\n",
    "  y_true = tf.reshape(y_true, shape=(-1, MAX_LENGTH - 1))\n",
    "  return tf.keras.metrics.sparse_categorical_accuracy(y_true, y_pred)\n",
    "\n",
    "model.compile(optimizer=optimizer, loss=loss_function, metrics=[accuracy])"
   ]
  },
  {
   "cell_type": "code",
   "execution_count": 45,
   "id": "6c4adb54",
   "metadata": {},
   "outputs": [
    {
     "name": "stdout",
     "output_type": "stream",
     "text": [
      "Epoch 1/50\n",
      "185/185 [==============================] - 17s 57ms/step - loss: 1.4506 - accuracy: 0.0302\n",
      "Epoch 2/50\n",
      "185/185 [==============================] - 10s 57ms/step - loss: 1.1756 - accuracy: 0.0494\n",
      "Epoch 3/50\n",
      "185/185 [==============================] - 10s 56ms/step - loss: 1.0050 - accuracy: 0.0506\n",
      "Epoch 4/50\n",
      "185/185 [==============================] - 10s 55ms/step - loss: 0.9278 - accuracy: 0.0544\n",
      "Epoch 5/50\n",
      "185/185 [==============================] - 10s 55ms/step - loss: 0.8703 - accuracy: 0.0578\n",
      "Epoch 6/50\n",
      "185/185 [==============================] - 10s 55ms/step - loss: 0.8105 - accuracy: 0.0620\n",
      "Epoch 7/50\n",
      "185/185 [==============================] - 10s 55ms/step - loss: 0.7442 - accuracy: 0.0680\n",
      "Epoch 8/50\n",
      "185/185 [==============================] - 10s 55ms/step - loss: 0.6710 - accuracy: 0.0757\n",
      "Epoch 9/50\n",
      "185/185 [==============================] - 10s 55ms/step - loss: 0.5911 - accuracy: 0.0845\n",
      "Epoch 10/50\n",
      "185/185 [==============================] - 10s 56ms/step - loss: 0.5097 - accuracy: 0.0933\n",
      "Epoch 11/50\n",
      "185/185 [==============================] - 10s 56ms/step - loss: 0.4267 - accuracy: 0.1040\n",
      "Epoch 12/50\n",
      "185/185 [==============================] - 10s 55ms/step - loss: 0.3460 - accuracy: 0.1150\n",
      "Epoch 13/50\n",
      "185/185 [==============================] - 10s 55ms/step - loss: 0.2723 - accuracy: 0.1256\n",
      "Epoch 14/50\n",
      "185/185 [==============================] - 10s 55ms/step - loss: 0.2077 - accuracy: 0.1357\n",
      "Epoch 15/50\n",
      "185/185 [==============================] - 10s 55ms/step - loss: 0.1523 - accuracy: 0.1453\n",
      "Epoch 16/50\n",
      "185/185 [==============================] - 10s 55ms/step - loss: 0.1101 - accuracy: 0.1529\n",
      "Epoch 17/50\n",
      "185/185 [==============================] - 10s 55ms/step - loss: 0.0804 - accuracy: 0.1584\n",
      "Epoch 18/50\n",
      "185/185 [==============================] - 10s 55ms/step - loss: 0.0609 - accuracy: 0.1622\n",
      "Epoch 19/50\n",
      "185/185 [==============================] - 10s 55ms/step - loss: 0.0508 - accuracy: 0.1638\n",
      "Epoch 20/50\n",
      "185/185 [==============================] - 10s 55ms/step - loss: 0.0463 - accuracy: 0.1642\n",
      "Epoch 21/50\n",
      "185/185 [==============================] - 10s 55ms/step - loss: 0.0412 - accuracy: 0.1652\n",
      "Epoch 22/50\n",
      "185/185 [==============================] - 10s 55ms/step - loss: 0.0415 - accuracy: 0.1650\n",
      "Epoch 23/50\n",
      "185/185 [==============================] - 10s 55ms/step - loss: 0.0357 - accuracy: 0.1663\n",
      "Epoch 24/50\n",
      "185/185 [==============================] - 10s 56ms/step - loss: 0.0311 - accuracy: 0.1674\n",
      "Epoch 25/50\n",
      "185/185 [==============================] - 10s 55ms/step - loss: 0.0271 - accuracy: 0.1684\n",
      "Epoch 26/50\n",
      "185/185 [==============================] - 10s 55ms/step - loss: 0.0252 - accuracy: 0.1688\n",
      "Epoch 27/50\n",
      "185/185 [==============================] - 10s 55ms/step - loss: 0.0226 - accuracy: 0.1695\n",
      "Epoch 28/50\n",
      "185/185 [==============================] - 10s 55ms/step - loss: 0.0199 - accuracy: 0.1702\n",
      "Epoch 29/50\n",
      "185/185 [==============================] - 10s 55ms/step - loss: 0.0179 - accuracy: 0.1706\n",
      "Epoch 30/50\n",
      "185/185 [==============================] - 10s 55ms/step - loss: 0.0165 - accuracy: 0.1710\n",
      "Epoch 31/50\n",
      "185/185 [==============================] - 10s 55ms/step - loss: 0.0148 - accuracy: 0.1715\n",
      "Epoch 32/50\n",
      "185/185 [==============================] - 10s 55ms/step - loss: 0.0139 - accuracy: 0.1717\n",
      "Epoch 33/50\n",
      "185/185 [==============================] - 10s 55ms/step - loss: 0.0133 - accuracy: 0.1719\n",
      "Epoch 34/50\n",
      "185/185 [==============================] - 10s 55ms/step - loss: 0.0119 - accuracy: 0.1722\n",
      "Epoch 35/50\n",
      "185/185 [==============================] - 10s 55ms/step - loss: 0.0111 - accuracy: 0.1723\n",
      "Epoch 36/50\n",
      "185/185 [==============================] - 10s 55ms/step - loss: 0.0107 - accuracy: 0.1725\n",
      "Epoch 37/50\n",
      "185/185 [==============================] - 10s 55ms/step - loss: 0.0104 - accuracy: 0.1725\n",
      "Epoch 38/50\n",
      "185/185 [==============================] - 10s 55ms/step - loss: 0.0099 - accuracy: 0.1727\n",
      "Epoch 39/50\n",
      "185/185 [==============================] - 10s 55ms/step - loss: 0.0087 - accuracy: 0.1730\n",
      "Epoch 40/50\n",
      "185/185 [==============================] - 10s 55ms/step - loss: 0.0087 - accuracy: 0.1730\n",
      "Epoch 41/50\n",
      "185/185 [==============================] - 10s 55ms/step - loss: 0.0079 - accuracy: 0.1732\n",
      "Epoch 42/50\n",
      "185/185 [==============================] - 10s 55ms/step - loss: 0.0078 - accuracy: 0.1732\n",
      "Epoch 43/50\n",
      "185/185 [==============================] - 10s 55ms/step - loss: 0.0072 - accuracy: 0.1733\n",
      "Epoch 44/50\n",
      "185/185 [==============================] - 10s 55ms/step - loss: 0.0071 - accuracy: 0.1734\n",
      "Epoch 45/50\n",
      "185/185 [==============================] - 10s 55ms/step - loss: 0.0068 - accuracy: 0.1734\n",
      "Epoch 46/50\n",
      "185/185 [==============================] - 10s 55ms/step - loss: 0.0064 - accuracy: 0.1735\n",
      "Epoch 47/50\n",
      "185/185 [==============================] - 10s 55ms/step - loss: 0.0064 - accuracy: 0.1736\n",
      "Epoch 48/50\n",
      "185/185 [==============================] - 10s 55ms/step - loss: 0.0057 - accuracy: 0.1738\n",
      "Epoch 49/50\n",
      "185/185 [==============================] - 10s 55ms/step - loss: 0.0056 - accuracy: 0.1737\n",
      "Epoch 50/50\n",
      "185/185 [==============================] - 10s 55ms/step - loss: 0.0054 - accuracy: 0.1737\n"
     ]
    },
    {
     "data": {
      "text/plain": [
       "<keras.callbacks.History at 0x7f1d2c6e1a90>"
      ]
     },
     "execution_count": 45,
     "metadata": {},
     "output_type": "execute_result"
    }
   ],
   "source": [
    "EPOCHS = 50\n",
    "\n",
    "model.fit(dataset, epochs=EPOCHS)"
   ]
  },
  {
   "cell_type": "code",
   "execution_count": 46,
   "id": "944bb7ff",
   "metadata": {},
   "outputs": [],
   "source": [
    "def evaluate(sentence):\n",
    "  sentence = preprocess_sentence(sentence)\n",
    "\n",
    "  sentence = tf.expand_dims(\n",
    "      START_TOKEN + tokenizer.encode(sentence) + END_TOKEN, axis=0)\n",
    "\n",
    "  output = tf.expand_dims(START_TOKEN, 0)\n",
    "\n",
    "  # 디코더의 예측 시작\n",
    "  for i in range(MAX_LENGTH):\n",
    "    predictions = model(inputs=[sentence, output], training=False)\n",
    "\n",
    "    # 현재(마지막) 시점의 예측 단어를 받아온다.\n",
    "    predictions = predictions[:, -1:, :]\n",
    "    predicted_id = tf.cast(tf.argmax(predictions, axis=-1), tf.int32)\n",
    "\n",
    "    # 만약 마지막 시점의 예측 단어가 종료 토큰이라면 예측을 중단\n",
    "    if tf.equal(predicted_id, END_TOKEN[0]):\n",
    "      break\n",
    "\n",
    "    # 마지막 시점의 예측 단어를 출력에 연결한다.\n",
    "    # 이는 for문을 통해서 디코더의 입력으로 사용될 예정이다.\n",
    "    output = tf.concat([output, predicted_id], axis=-1)\n",
    "\n",
    "  return tf.squeeze(output, axis=0)\n",
    "\n",
    "\n",
    "def predict(sentence):\n",
    "  prediction = evaluate(sentence)\n",
    "\n",
    "  predicted_sentence = tokenizer.decode(\n",
    "      [i for i in prediction if i < tokenizer.vocab_size])\n",
    "\n",
    "  print('Input: {}'.format(sentence))\n",
    "  print('Output: {}'.format(predicted_sentence))\n",
    "\n",
    "  return predicted_sentence"
   ]
  },
  {
   "cell_type": "code",
   "execution_count": 47,
   "id": "b2b11cd9",
   "metadata": {},
   "outputs": [],
   "source": [
    "def preprocess_sentence(sentence):\n",
    "  sentence = re.sub(r\"([?.!,])\", r\" \\1 \", sentence)\n",
    "  sentence = sentence.strip()\n",
    "  return sentence"
   ]
  },
  {
   "cell_type": "code",
   "execution_count": 48,
   "id": "c1323d34",
   "metadata": {},
   "outputs": [
    {
     "name": "stdout",
     "output_type": "stream",
     "text": [
      "Input: 영화 볼래?\n",
      "Output: 최신 영화가 좋을 것 같아요 .\n"
     ]
    }
   ],
   "source": [
    "output = predict('영화 볼래?')"
   ]
  },
  {
   "cell_type": "code",
   "execution_count": 49,
   "id": "000a31ea",
   "metadata": {},
   "outputs": [
    {
     "name": "stdout",
     "output_type": "stream",
     "text": [
      "Input: 넌 인생이 살만하니?\n",
      "Output: 단맛도 있을 거예요 .\n"
     ]
    }
   ],
   "source": [
    "output = predict('넌 인생이 살만하니?')"
   ]
  },
  {
   "cell_type": "code",
   "execution_count": 50,
   "id": "569ede5b",
   "metadata": {},
   "outputs": [
    {
     "name": "stdout",
     "output_type": "stream",
     "text": [
      "Input: 좋아하는 사람은 있니?\n",
      "Output: 잘 살고 있어요 .\n"
     ]
    }
   ],
   "source": [
    "output = predict('좋아하는 사람은 있니?')"
   ]
  },
  {
   "cell_type": "code",
   "execution_count": 57,
   "id": "36d32aff",
   "metadata": {},
   "outputs": [
    {
     "name": "stdout",
     "output_type": "stream",
     "text": [
      "Input: 세계를 떠나면 어떨 것 같아\n",
      "Output: 그 누구와도 비교하지 마세요 .\n"
     ]
    }
   ],
   "source": [
    "output = predict('세계를 떠나면 어떨 것 같아')"
   ]
  },
  {
   "cell_type": "code",
   "execution_count": 56,
   "id": "5433c705",
   "metadata": {},
   "outputs": [
    {
     "name": "stdout",
     "output_type": "stream",
     "text": [
      "Input: 생일 축하해줘\n",
      "Output: 네 말씀해주세요 .\n"
     ]
    }
   ],
   "source": [
    "output = predict('생일 축하해줘')"
   ]
  },
  {
   "cell_type": "code",
   "execution_count": 58,
   "id": "6b6d55c3",
   "metadata": {},
   "outputs": [
    {
     "name": "stdout",
     "output_type": "stream",
     "text": [
      "Input: 넌 너무 고리타분 한 것 같아\n",
      "Output: 사람들이 공감할 거예요 .\n"
     ]
    }
   ],
   "source": [
    "output = predict('넌 너무 고리타분 한 것 같아')"
   ]
  },
  {
   "cell_type": "code",
   "execution_count": 59,
   "id": "b207d8cc",
   "metadata": {},
   "outputs": [
    {
     "name": "stdout",
     "output_type": "stream",
     "text": [
      "Input: 인생이 쓰다.\n",
      "Output: 단맛도 있을 거예요 .\n"
     ]
    }
   ],
   "source": [
    "output = predict('인생이 쓰다.')"
   ]
  },
  {
   "cell_type": "code",
   "execution_count": 61,
   "id": "5dbb3c75",
   "metadata": {},
   "outputs": [
    {
     "data": {
      "text/html": [
       "<div>\n",
       "<style scoped>\n",
       "    .dataframe tbody tr th:only-of-type {\n",
       "        vertical-align: middle;\n",
       "    }\n",
       "\n",
       "    .dataframe tbody tr th {\n",
       "        vertical-align: top;\n",
       "    }\n",
       "\n",
       "    .dataframe thead th {\n",
       "        text-align: right;\n",
       "    }\n",
       "</style>\n",
       "<table border=\"1\" class=\"dataframe\">\n",
       "  <thead>\n",
       "    <tr style=\"text-align: right;\">\n",
       "      <th></th>\n",
       "      <th>Q</th>\n",
       "      <th>A</th>\n",
       "      <th>label</th>\n",
       "    </tr>\n",
       "  </thead>\n",
       "  <tbody>\n",
       "    <tr>\n",
       "      <th>1843</th>\n",
       "      <td>뭔가 뒷맛이 쓰다</td>\n",
       "      <td>단맛도 있을 거예요.</td>\n",
       "      <td>0</td>\n",
       "    </tr>\n",
       "    <tr>\n",
       "      <th>3766</th>\n",
       "      <td>인생 공부한건가</td>\n",
       "      <td>단맛도 있을 거예요.</td>\n",
       "      <td>0</td>\n",
       "    </tr>\n",
       "    <tr>\n",
       "      <th>3774</th>\n",
       "      <td>인생의 쓴맛</td>\n",
       "      <td>단맛도 있을 거예요.</td>\n",
       "      <td>0</td>\n",
       "    </tr>\n",
       "    <tr>\n",
       "      <th>3775</th>\n",
       "      <td>인생이 쓰디쓰다</td>\n",
       "      <td>단맛도 있을 거예요.</td>\n",
       "      <td>0</td>\n",
       "    </tr>\n",
       "  </tbody>\n",
       "</table>\n",
       "</div>"
      ],
      "text/plain": [
       "              Q            A  label\n",
       "1843  뭔가 뒷맛이 쓰다  단맛도 있을 거예요.      0\n",
       "3766   인생 공부한건가  단맛도 있을 거예요.      0\n",
       "3774     인생의 쓴맛  단맛도 있을 거예요.      0\n",
       "3775   인생이 쓰디쓰다  단맛도 있을 거예요.      0"
      ]
     },
     "execution_count": 61,
     "metadata": {},
     "output_type": "execute_result"
    }
   ],
   "source": [
    "train_data[train_data['A'].str.contains('단맛')]"
   ]
  },
  {
   "cell_type": "code",
   "execution_count": 65,
   "id": "a43e8d6d",
   "metadata": {},
   "outputs": [
    {
     "name": "stdout",
     "output_type": "stream",
     "text": [
      "Input: 공부.\n",
      "Output: 인연이 거기까지 였나봐요 .\n"
     ]
    }
   ],
   "source": [
    "output = predict('공부.')"
   ]
  },
  {
   "cell_type": "code",
   "execution_count": 66,
   "id": "3a24ff4a",
   "metadata": {},
   "outputs": [
    {
     "data": {
      "text/html": [
       "<div>\n",
       "<style scoped>\n",
       "    .dataframe tbody tr th:only-of-type {\n",
       "        vertical-align: middle;\n",
       "    }\n",
       "\n",
       "    .dataframe tbody tr th {\n",
       "        vertical-align: top;\n",
       "    }\n",
       "\n",
       "    .dataframe thead th {\n",
       "        text-align: right;\n",
       "    }\n",
       "</style>\n",
       "<table border=\"1\" class=\"dataframe\">\n",
       "  <thead>\n",
       "    <tr style=\"text-align: right;\">\n",
       "      <th></th>\n",
       "      <th>Q</th>\n",
       "      <th>A</th>\n",
       "      <th>label</th>\n",
       "    </tr>\n",
       "  </thead>\n",
       "  <tbody>\n",
       "    <tr>\n",
       "      <th>3777</th>\n",
       "      <td>인연은 소중한 거지</td>\n",
       "      <td>옷깃만 스쳐도 인연이죠.</td>\n",
       "      <td>0</td>\n",
       "    </tr>\n",
       "    <tr>\n",
       "      <th>3778</th>\n",
       "      <td>인연은 항상 소중한 거겠지</td>\n",
       "      <td>옷깃만 스쳐도 인연이죠.</td>\n",
       "      <td>0</td>\n",
       "    </tr>\n",
       "    <tr>\n",
       "      <th>5314</th>\n",
       "      <td>2년 6개월 이렇게 끝나네</td>\n",
       "      <td>인연이 여기까지였나봅니다.</td>\n",
       "      <td>1</td>\n",
       "    </tr>\n",
       "    <tr>\n",
       "      <th>5317</th>\n",
       "      <td>2년 다되가는 연애 끝.</td>\n",
       "      <td>인연이 거기까지였나봐요.</td>\n",
       "      <td>1</td>\n",
       "    </tr>\n",
       "    <tr>\n",
       "      <th>5357</th>\n",
       "      <td>45일만에 진짜 헤어지네</td>\n",
       "      <td>인연이 거기까지였나봐요.</td>\n",
       "      <td>1</td>\n",
       "    </tr>\n",
       "    <tr>\n",
       "      <th>5496</th>\n",
       "      <td>결국 여친이 헤어지자 하네.</td>\n",
       "      <td>인연이 거기까지 였나봐요.</td>\n",
       "      <td>1</td>\n",
       "    </tr>\n",
       "    <tr>\n",
       "      <th>5781</th>\n",
       "      <td>나를 사랑하지 않는다네</td>\n",
       "      <td>인연이 거기까지인가봐요.</td>\n",
       "      <td>1</td>\n",
       "    </tr>\n",
       "    <tr>\n",
       "      <th>6033</th>\n",
       "      <td>다른 사람에게 뺏긴거 같네.</td>\n",
       "      <td>인연이 여기까지였나봐요.</td>\n",
       "      <td>1</td>\n",
       "    </tr>\n",
       "    <tr>\n",
       "      <th>6061</th>\n",
       "      <td>다시 헤어졌습니다.</td>\n",
       "      <td>인연이 거기까지였나봐요.</td>\n",
       "      <td>1</td>\n",
       "    </tr>\n",
       "    <tr>\n",
       "      <th>6207</th>\n",
       "      <td>마음이 완전히 식은 남자</td>\n",
       "      <td>인연이 거기까지인가봐요. 마음의 준비를 하세요.</td>\n",
       "      <td>1</td>\n",
       "    </tr>\n",
       "    <tr>\n",
       "      <th>6301</th>\n",
       "      <td>멀어지는 길.</td>\n",
       "      <td>인연이 거기까지인가봐요.</td>\n",
       "      <td>1</td>\n",
       "    </tr>\n",
       "    <tr>\n",
       "      <th>6510</th>\n",
       "      <td>봄이라서 더욱 그리운.</td>\n",
       "      <td>새로운 사랑을 하기 좋은 계절이기도 해요. 새로운 인연이 찾아오길 바랄게요.</td>\n",
       "      <td>1</td>\n",
       "    </tr>\n",
       "    <tr>\n",
       "      <th>6549</th>\n",
       "      <td>비극.</td>\n",
       "      <td>인연이 거기까지인가봐요.</td>\n",
       "      <td>1</td>\n",
       "    </tr>\n",
       "    <tr>\n",
       "      <th>6690</th>\n",
       "      <td>성격적으로 안맞는걸 알지만 마음은 그게 아님을 알땐</td>\n",
       "      <td>달라지는게 없다면 인연이 거기까지 아닐까요.</td>\n",
       "      <td>1</td>\n",
       "    </tr>\n",
       "    <tr>\n",
       "      <th>6899</th>\n",
       "      <td>안 맞는다면서 헤어진 우리</td>\n",
       "      <td>인연이 거기까지인가봐요.</td>\n",
       "      <td>1</td>\n",
       "    </tr>\n",
       "    <tr>\n",
       "      <th>6936</th>\n",
       "      <td>어떻게 나한테 이러지</td>\n",
       "      <td>인연이 거기까지인가봐요.</td>\n",
       "      <td>1</td>\n",
       "    </tr>\n",
       "    <tr>\n",
       "      <th>7090</th>\n",
       "      <td>연락을 해봤는데 안받네.</td>\n",
       "      <td>인연이 거기까지인가봐요.</td>\n",
       "      <td>1</td>\n",
       "    </tr>\n",
       "    <tr>\n",
       "      <th>7296</th>\n",
       "      <td>운이좋은건지 나쁜건지</td>\n",
       "      <td>인연이 거기까지 였나봐요.</td>\n",
       "      <td>1</td>\n",
       "    </tr>\n",
       "    <tr>\n",
       "      <th>7361</th>\n",
       "      <td>이대로 이별이겠죠?</td>\n",
       "      <td>인연이 거기까지일 수도 있어요.</td>\n",
       "      <td>1</td>\n",
       "    </tr>\n",
       "    <tr>\n",
       "      <th>7390</th>\n",
       "      <td>이렇게 진짜 끝인걸까.</td>\n",
       "      <td>인연이 거기까지인 가봐요.</td>\n",
       "      <td>1</td>\n",
       "    </tr>\n",
       "    <tr>\n",
       "      <th>7622</th>\n",
       "      <td>이별후 8개월이란 시간이 흐르고</td>\n",
       "      <td>다른 인연이 ㅊ자아올 거예요.</td>\n",
       "      <td>1</td>\n",
       "    </tr>\n",
       "    <tr>\n",
       "      <th>7771</th>\n",
       "      <td>이혼을 하고싶진 않는데 너무견디기힘듭니다 ㅠㅠ</td>\n",
       "      <td>인연이 거기까지였다고 생각하기로 해요.</td>\n",
       "      <td>1</td>\n",
       "    </tr>\n",
       "    <tr>\n",
       "      <th>7779</th>\n",
       "      <td>인연</td>\n",
       "      <td>또 다른 인연이 있기 마련이죠.</td>\n",
       "      <td>1</td>\n",
       "    </tr>\n",
       "    <tr>\n",
       "      <th>7780</th>\n",
       "      <td>인연이었다던 그사람</td>\n",
       "      <td>또 다른 인연이 있기 마련이죠.</td>\n",
       "      <td>1</td>\n",
       "    </tr>\n",
       "    <tr>\n",
       "      <th>7794</th>\n",
       "      <td>읽씹</td>\n",
       "      <td>인연이 거기까지였나봐요.</td>\n",
       "      <td>1</td>\n",
       "    </tr>\n",
       "    <tr>\n",
       "      <th>7860</th>\n",
       "      <td>자연스럽게 헤어진 건가?</td>\n",
       "      <td>인연이 거기까지였나봐요.</td>\n",
       "      <td>1</td>\n",
       "    </tr>\n",
       "    <tr>\n",
       "      <th>8233</th>\n",
       "      <td>질린다네.</td>\n",
       "      <td>인연이 거기까지였나봐요.</td>\n",
       "      <td>1</td>\n",
       "    </tr>\n",
       "    <tr>\n",
       "      <th>8319</th>\n",
       "      <td>첫시작이 잘못된 만남이였을까?</td>\n",
       "      <td>인연이 아니었나봐요.</td>\n",
       "      <td>1</td>\n",
       "    </tr>\n",
       "    <tr>\n",
       "      <th>8429</th>\n",
       "      <td>한달 사귀고 헤어진 남자 무슨 생각일까?</td>\n",
       "      <td>인연이 아니었나봅니다.</td>\n",
       "      <td>1</td>\n",
       "    </tr>\n",
       "    <tr>\n",
       "      <th>8530</th>\n",
       "      <td>헤어지고 세달뒤 딴사람과 결혼.</td>\n",
       "      <td>인연이 거기까지였나봐요.</td>\n",
       "      <td>1</td>\n",
       "    </tr>\n",
       "    <tr>\n",
       "      <th>9196</th>\n",
       "      <td>나를 진심으로 좋아해주는 사람이 생겼으면 소원이 없겠어.</td>\n",
       "      <td>언젠간 인연이 닿을 거예요.</td>\n",
       "      <td>2</td>\n",
       "    </tr>\n",
       "    <tr>\n",
       "      <th>9200</th>\n",
       "      <td>나만 안되는 연애</td>\n",
       "      <td>당신의 인연이 있을거예요.</td>\n",
       "      <td>2</td>\n",
       "    </tr>\n",
       "    <tr>\n",
       "      <th>9895</th>\n",
       "      <td>사랑을 알게 해준 너</td>\n",
       "      <td>소중한 인연이었네요.</td>\n",
       "      <td>2</td>\n",
       "    </tr>\n",
       "    <tr>\n",
       "      <th>10029</th>\n",
       "      <td>사랑했는데 왜 지금은 함께있지 않을까?</td>\n",
       "      <td>인연이라면 다시 만날수도 있어요.</td>\n",
       "      <td>2</td>\n",
       "    </tr>\n",
       "    <tr>\n",
       "      <th>10940</th>\n",
       "      <td>인연이 있다고 생각해?</td>\n",
       "      <td>저랑 당신도 인연이죠.</td>\n",
       "      <td>2</td>\n",
       "    </tr>\n",
       "    <tr>\n",
       "      <th>11125</th>\n",
       "      <td>좋아하는 사람이 다른 사람을 좋아한대. 살기 싫다.</td>\n",
       "      <td>인연이 거기까지인가봐요.</td>\n",
       "      <td>2</td>\n",
       "    </tr>\n",
       "    <tr>\n",
       "      <th>11202</th>\n",
       "      <td>좋아하는 애한테 말도 못 해보고 졸업했어요.</td>\n",
       "      <td>인연이라면 졸업 후에도 만날 수 있을 거예요.</td>\n",
       "      <td>2</td>\n",
       "    </tr>\n",
       "    <tr>\n",
       "      <th>11514</th>\n",
       "      <td>짝녀가 이사간다는데 너무 힘들어.</td>\n",
       "      <td>인연이라면 또 다시 만날 수 있을 거예요.</td>\n",
       "      <td>2</td>\n",
       "    </tr>\n",
       "    <tr>\n",
       "      <th>11602</th>\n",
       "      <td>짝사랑 했던 그가 떠나갔어.</td>\n",
       "      <td>여기까지 인연이었나봅니다.</td>\n",
       "      <td>2</td>\n",
       "    </tr>\n",
       "    <tr>\n",
       "      <th>11605</th>\n",
       "      <td>짝사랑 했던 여자가 떠나갔네.</td>\n",
       "      <td>여기까지 인연이었나봅니다.</td>\n",
       "      <td>2</td>\n",
       "    </tr>\n",
       "  </tbody>\n",
       "</table>\n",
       "</div>"
      ],
      "text/plain": [
       "                                     Q  \\\n",
       "3777                        인연은 소중한 거지   \n",
       "3778                    인연은 항상 소중한 거겠지   \n",
       "5314                    2년 6개월 이렇게 끝나네   \n",
       "5317                     2년 다되가는 연애 끝.   \n",
       "5357                     45일만에 진짜 헤어지네   \n",
       "5496                   결국 여친이 헤어지자 하네.   \n",
       "5781                      나를 사랑하지 않는다네   \n",
       "6033                   다른 사람에게 뺏긴거 같네.   \n",
       "6061                        다시 헤어졌습니다.   \n",
       "6207                     마음이 완전히 식은 남자   \n",
       "6301                           멀어지는 길.   \n",
       "6510                      봄이라서 더욱 그리운.   \n",
       "6549                               비극.   \n",
       "6690      성격적으로 안맞는걸 알지만 마음은 그게 아님을 알땐   \n",
       "6899                    안 맞는다면서 헤어진 우리   \n",
       "6936                       어떻게 나한테 이러지   \n",
       "7090                     연락을 해봤는데 안받네.   \n",
       "7296                       운이좋은건지 나쁜건지   \n",
       "7361                        이대로 이별이겠죠?   \n",
       "7390                      이렇게 진짜 끝인걸까.   \n",
       "7622                 이별후 8개월이란 시간이 흐르고   \n",
       "7771         이혼을 하고싶진 않는데 너무견디기힘듭니다 ㅠㅠ   \n",
       "7779                                인연   \n",
       "7780                        인연이었다던 그사람   \n",
       "7794                                읽씹   \n",
       "7860                     자연스럽게 헤어진 건가?   \n",
       "8233                             질린다네.   \n",
       "8319                  첫시작이 잘못된 만남이였을까?   \n",
       "8429            한달 사귀고 헤어진 남자 무슨 생각일까?   \n",
       "8530                 헤어지고 세달뒤 딴사람과 결혼.   \n",
       "9196   나를 진심으로 좋아해주는 사람이 생겼으면 소원이 없겠어.   \n",
       "9200                         나만 안되는 연애   \n",
       "9895                       사랑을 알게 해준 너   \n",
       "10029            사랑했는데 왜 지금은 함께있지 않을까?   \n",
       "10940                     인연이 있다고 생각해?   \n",
       "11125     좋아하는 사람이 다른 사람을 좋아한대. 살기 싫다.   \n",
       "11202         좋아하는 애한테 말도 못 해보고 졸업했어요.   \n",
       "11514               짝녀가 이사간다는데 너무 힘들어.   \n",
       "11602                  짝사랑 했던 그가 떠나갔어.   \n",
       "11605                 짝사랑 했던 여자가 떠나갔네.   \n",
       "\n",
       "                                                A  label  \n",
       "3777                                옷깃만 스쳐도 인연이죠.      0  \n",
       "3778                                옷깃만 스쳐도 인연이죠.      0  \n",
       "5314                               인연이 여기까지였나봅니다.      1  \n",
       "5317                                인연이 거기까지였나봐요.      1  \n",
       "5357                                인연이 거기까지였나봐요.      1  \n",
       "5496                               인연이 거기까지 였나봐요.      1  \n",
       "5781                                인연이 거기까지인가봐요.      1  \n",
       "6033                                인연이 여기까지였나봐요.      1  \n",
       "6061                                인연이 거기까지였나봐요.      1  \n",
       "6207                   인연이 거기까지인가봐요. 마음의 준비를 하세요.      1  \n",
       "6301                                인연이 거기까지인가봐요.      1  \n",
       "6510   새로운 사랑을 하기 좋은 계절이기도 해요. 새로운 인연이 찾아오길 바랄게요.      1  \n",
       "6549                                인연이 거기까지인가봐요.      1  \n",
       "6690                     달라지는게 없다면 인연이 거기까지 아닐까요.      1  \n",
       "6899                                인연이 거기까지인가봐요.      1  \n",
       "6936                                인연이 거기까지인가봐요.      1  \n",
       "7090                                인연이 거기까지인가봐요.      1  \n",
       "7296                               인연이 거기까지 였나봐요.      1  \n",
       "7361                            인연이 거기까지일 수도 있어요.      1  \n",
       "7390                               인연이 거기까지인 가봐요.      1  \n",
       "7622                             다른 인연이 ㅊ자아올 거예요.      1  \n",
       "7771                        인연이 거기까지였다고 생각하기로 해요.      1  \n",
       "7779                            또 다른 인연이 있기 마련이죠.      1  \n",
       "7780                            또 다른 인연이 있기 마련이죠.      1  \n",
       "7794                                인연이 거기까지였나봐요.      1  \n",
       "7860                                인연이 거기까지였나봐요.      1  \n",
       "8233                                인연이 거기까지였나봐요.      1  \n",
       "8319                                  인연이 아니었나봐요.      1  \n",
       "8429                                 인연이 아니었나봅니다.      1  \n",
       "8530                                인연이 거기까지였나봐요.      1  \n",
       "9196                              언젠간 인연이 닿을 거예요.      2  \n",
       "9200                               당신의 인연이 있을거예요.      2  \n",
       "9895                                  소중한 인연이었네요.      2  \n",
       "10029                          인연이라면 다시 만날수도 있어요.      2  \n",
       "10940                                저랑 당신도 인연이죠.      2  \n",
       "11125                               인연이 거기까지인가봐요.      2  \n",
       "11202                   인연이라면 졸업 후에도 만날 수 있을 거예요.      2  \n",
       "11514                     인연이라면 또 다시 만날 수 있을 거예요.      2  \n",
       "11602                              여기까지 인연이었나봅니다.      2  \n",
       "11605                              여기까지 인연이었나봅니다.      2  "
      ]
     },
     "execution_count": 66,
     "metadata": {},
     "output_type": "execute_result"
    }
   ],
   "source": [
    "train_data[train_data['A'].str.contains('인연이')]"
   ]
  },
  {
   "cell_type": "code",
   "execution_count": 69,
   "id": "4fb6c8fc",
   "metadata": {},
   "outputs": [
    {
     "name": "stdout",
     "output_type": "stream",
     "text": [
      "Input: 김민기라고 아니?\n",
      "Output: 꼬박꼬박 챙겨 드세요 .\n"
     ]
    }
   ],
   "source": [
    "output = predict('김민기라고 아니?')"
   ]
  },
  {
   "cell_type": "code",
   "execution_count": 70,
   "id": "539f503f",
   "metadata": {},
   "outputs": [
    {
     "data": {
      "text/html": [
       "<div>\n",
       "<style scoped>\n",
       "    .dataframe tbody tr th:only-of-type {\n",
       "        vertical-align: middle;\n",
       "    }\n",
       "\n",
       "    .dataframe tbody tr th {\n",
       "        vertical-align: top;\n",
       "    }\n",
       "\n",
       "    .dataframe thead th {\n",
       "        text-align: right;\n",
       "    }\n",
       "</style>\n",
       "<table border=\"1\" class=\"dataframe\">\n",
       "  <thead>\n",
       "    <tr style=\"text-align: right;\">\n",
       "      <th></th>\n",
       "      <th>Q</th>\n",
       "      <th>A</th>\n",
       "      <th>label</th>\n",
       "    </tr>\n",
       "  </thead>\n",
       "  <tbody>\n",
       "    <tr>\n",
       "      <th>2225</th>\n",
       "      <td>비타민 먹어야지</td>\n",
       "      <td>꼬박꼬박 챙겨 드세요.</td>\n",
       "      <td>0</td>\n",
       "    </tr>\n",
       "    <tr>\n",
       "      <th>2226</th>\n",
       "      <td>비타민 사서 먹어야겠다.</td>\n",
       "      <td>꼬박꼬박 챙겨 드세요.</td>\n",
       "      <td>0</td>\n",
       "    </tr>\n",
       "    <tr>\n",
       "      <th>3008</th>\n",
       "      <td>약 먹고 나아야지</td>\n",
       "      <td>꼬박꼬박 챙겨 드세요.</td>\n",
       "      <td>0</td>\n",
       "    </tr>\n",
       "    <tr>\n",
       "      <th>3010</th>\n",
       "      <td>약 챙겨 먹어야지</td>\n",
       "      <td>꼬박꼬박 챙겨 드세요.</td>\n",
       "      <td>0</td>\n",
       "    </tr>\n",
       "  </tbody>\n",
       "</table>\n",
       "</div>"
      ],
      "text/plain": [
       "                  Q             A  label\n",
       "2225       비타민 먹어야지  꼬박꼬박 챙겨 드세요.      0\n",
       "2226  비타민 사서 먹어야겠다.  꼬박꼬박 챙겨 드세요.      0\n",
       "3008      약 먹고 나아야지  꼬박꼬박 챙겨 드세요.      0\n",
       "3010      약 챙겨 먹어야지  꼬박꼬박 챙겨 드세요.      0"
      ]
     },
     "execution_count": 70,
     "metadata": {},
     "output_type": "execute_result"
    }
   ],
   "source": [
    "train_data[train_data['A'].str.contains('꼬박꼬박')] #??? 뭐지??"
   ]
  },
  {
   "cell_type": "code",
   "execution_count": 75,
   "id": "4d38289a",
   "metadata": {},
   "outputs": [
    {
     "data": {
      "text/html": [
       "<div>\n",
       "<style scoped>\n",
       "    .dataframe tbody tr th:only-of-type {\n",
       "        vertical-align: middle;\n",
       "    }\n",
       "\n",
       "    .dataframe tbody tr th {\n",
       "        vertical-align: top;\n",
       "    }\n",
       "\n",
       "    .dataframe thead th {\n",
       "        text-align: right;\n",
       "    }\n",
       "</style>\n",
       "<table border=\"1\" class=\"dataframe\">\n",
       "  <thead>\n",
       "    <tr style=\"text-align: right;\">\n",
       "      <th></th>\n",
       "      <th>Q</th>\n",
       "      <th>A</th>\n",
       "      <th>label</th>\n",
       "    </tr>\n",
       "  </thead>\n",
       "  <tbody>\n",
       "    <tr>\n",
       "      <th>413</th>\n",
       "      <td>김떡순 먹고 싶어.</td>\n",
       "      <td>건강을 위해 조금씩 드세요.</td>\n",
       "      <td>0</td>\n",
       "    </tr>\n",
       "    <tr>\n",
       "      <th>414</th>\n",
       "      <td>김치도 없네</td>\n",
       "      <td>마트 갑시다.</td>\n",
       "      <td>0</td>\n",
       "    </tr>\n",
       "    <tr>\n",
       "      <th>415</th>\n",
       "      <td>김치볶음밥 먹어야지</td>\n",
       "      <td>맛있는 식사시간 되시길 바랄게요.</td>\n",
       "      <td>0</td>\n",
       "    </tr>\n",
       "    <tr>\n",
       "      <th>416</th>\n",
       "      <td>김치볶음밥이나 만들어 먹어야지</td>\n",
       "      <td>맛있는 식사시간 되시길 바랄게요.</td>\n",
       "      <td>0</td>\n",
       "    </tr>\n",
       "    <tr>\n",
       "      <th>417</th>\n",
       "      <td>김치찌개 먹고 싶어</td>\n",
       "      <td>맛있죠!</td>\n",
       "      <td>0</td>\n",
       "    </tr>\n",
       "    <tr>\n",
       "      <th>748</th>\n",
       "      <td>남자친구가 홧김에 욕함</td>\n",
       "      <td>순간 실수할 수 있겠다 판단되면 용서하고 기회를 주세요.</td>\n",
       "      <td>0</td>\n",
       "    </tr>\n",
       "    <tr>\n",
       "      <th>922</th>\n",
       "      <td>냉장고에 김치도 없네</td>\n",
       "      <td>마트 갑시다.</td>\n",
       "      <td>0</td>\n",
       "    </tr>\n",
       "    <tr>\n",
       "      <th>4439</th>\n",
       "      <td>참치김치찌개 먹고 싶어.</td>\n",
       "      <td>맛있죠!</td>\n",
       "      <td>0</td>\n",
       "    </tr>\n",
       "    <tr>\n",
       "      <th>4836</th>\n",
       "      <td>튀김기 사고 싶다</td>\n",
       "      <td>몇 번 안해먹고 둘 거면 그냥 사 드세요.</td>\n",
       "      <td>0</td>\n",
       "    </tr>\n",
       "    <tr>\n",
       "      <th>5420</th>\n",
       "      <td>jk김동욱 노래 생각나네</td>\n",
       "      <td>가사가 비슷한가봐요.</td>\n",
       "      <td>1</td>\n",
       "    </tr>\n",
       "    <tr>\n",
       "      <th>7161</th>\n",
       "      <td>오늘도 어김없이 너무생각나네</td>\n",
       "      <td>언젠가 떠날 보낼 날이 올거예요.</td>\n",
       "      <td>1</td>\n",
       "    </tr>\n",
       "    <tr>\n",
       "      <th>10583</th>\n",
       "      <td>여자친구가 너무 챙김받고 싶어해</td>\n",
       "      <td>사랑을 더 받고 싶은 가봐요.</td>\n",
       "      <td>2</td>\n",
       "    </tr>\n",
       "    <tr>\n",
       "      <th>10696</th>\n",
       "      <td>여행 온 김에 짝녀 선물 사려하는데 어떻게 생각함?</td>\n",
       "      <td>받으면 감동 받을 것 같아요.</td>\n",
       "      <td>2</td>\n",
       "    </tr>\n",
       "    <tr>\n",
       "      <th>10852</th>\n",
       "      <td>우리 반에 좋아하는 여자애가 생김.</td>\n",
       "      <td>매일 볼 수 있어 학교갈 맛이 나겠네요.</td>\n",
       "      <td>2</td>\n",
       "    </tr>\n",
       "    <tr>\n",
       "      <th>11811</th>\n",
       "      <td>홧김에 짝남한테 고백했다.</td>\n",
       "      <td>화끈하시네요.</td>\n",
       "      <td>2</td>\n",
       "    </tr>\n",
       "  </tbody>\n",
       "</table>\n",
       "</div>"
      ],
      "text/plain": [
       "                                  Q                                A  label\n",
       "413                      김떡순 먹고 싶어.                  건강을 위해 조금씩 드세요.      0\n",
       "414                          김치도 없네                          마트 갑시다.      0\n",
       "415                      김치볶음밥 먹어야지               맛있는 식사시간 되시길 바랄게요.      0\n",
       "416                김치볶음밥이나 만들어 먹어야지               맛있는 식사시간 되시길 바랄게요.      0\n",
       "417                      김치찌개 먹고 싶어                             맛있죠!      0\n",
       "748                    남자친구가 홧김에 욕함  순간 실수할 수 있겠다 판단되면 용서하고 기회를 주세요.      0\n",
       "922                     냉장고에 김치도 없네                          마트 갑시다.      0\n",
       "4439                  참치김치찌개 먹고 싶어.                             맛있죠!      0\n",
       "4836                      튀김기 사고 싶다          몇 번 안해먹고 둘 거면 그냥 사 드세요.      0\n",
       "5420                  jk김동욱 노래 생각나네                      가사가 비슷한가봐요.      1\n",
       "7161                오늘도 어김없이 너무생각나네               언젠가 떠날 보낼 날이 올거예요.      1\n",
       "10583             여자친구가 너무 챙김받고 싶어해                 사랑을 더 받고 싶은 가봐요.      2\n",
       "10696  여행 온 김에 짝녀 선물 사려하는데 어떻게 생각함?                 받으면 감동 받을 것 같아요.      2\n",
       "10852           우리 반에 좋아하는 여자애가 생김.           매일 볼 수 있어 학교갈 맛이 나겠네요.      2\n",
       "11811                홧김에 짝남한테 고백했다.                          화끈하시네요.      2"
      ]
     },
     "execution_count": 75,
     "metadata": {},
     "output_type": "execute_result"
    }
   ],
   "source": [
    "train_data[train_data['Q'].str.contains('김')] #??? 뭐지??"
   ]
  },
  {
   "cell_type": "code",
   "execution_count": 76,
   "id": "17edb98e",
   "metadata": {},
   "outputs": [
    {
     "name": "stdout",
     "output_type": "stream",
     "text": [
      "Input: 최강훈이라고 아니?\n",
      "Output: 하고 안하고는 집주인 마음이죠 .\n"
     ]
    }
   ],
   "source": [
    "output = predict('최강훈이라고 아니?')"
   ]
  },
  {
   "cell_type": "code",
   "execution_count": 77,
   "id": "90c3e5e8",
   "metadata": {},
   "outputs": [
    {
     "name": "stdout",
     "output_type": "stream",
     "text": [
      "Input: 최강훈\n",
      "Output: 변화 가능성을 생각해보세요 .\n"
     ]
    }
   ],
   "source": [
    "output = predict('최강훈')"
   ]
  },
  {
   "attachments": {
    "image.png": {
     "image/png": "[encoded data removed]"
    }
   },
   "cell_type": "markdown",
   "id": "2d23d2e3",
   "metadata": {},
   "source": [
    "## 민기님과 비교를 해보았습니다.\n",
    "![image.png](attachment:image.png)"
   ]
  },
  {
   "cell_type": "code",
   "execution_count": 78,
   "id": "63bef819",
   "metadata": {},
   "outputs": [
    {
     "name": "stdout",
     "output_type": "stream",
     "text": [
      "Input: 김승순\n",
      "Output: 혼자만의 시간이 많아지죠 .\n"
     ]
    }
   ],
   "source": [
    "output = predict('김승순')"
   ]
  },
  {
   "cell_type": "code",
   "execution_count": 79,
   "id": "42aa6733",
   "metadata": {},
   "outputs": [
    {
     "name": "stdout",
     "output_type": "stream",
     "text": [
      "Input: 김승순이라고 아니?\n",
      "Output: 금연 프로그램을 소개해보세요 .\n"
     ]
    }
   ],
   "source": [
    "output = predict('김승순이라고 아니?') # 어 승순님.. 비 흡연자이신데? 설마.. 프로그램을 다니셨나?"
   ]
  },
  {
   "cell_type": "code",
   "execution_count": 80,
   "id": "33be0398",
   "metadata": {},
   "outputs": [
    {
     "name": "stdout",
     "output_type": "stream",
     "text": [
      "Input: 이상원\n",
      "Output: 돈 없어도 할 수 있는게 많아요\n"
     ]
    }
   ],
   "source": [
    "output = predict('이상원') # 왜 상원님은 좋은 것만 나오시죠?"
   ]
  },
  {
   "cell_type": "code",
   "execution_count": 81,
   "id": "e41098d6",
   "metadata": {},
   "outputs": [
    {
     "name": "stdout",
     "output_type": "stream",
     "text": [
      "Input: 이상원이라고 아니?\n",
      "Output: 그 사람도 당신을 좋아하길 바랍니다 .\n"
     ]
    }
   ],
   "source": [
    "output = predict('이상원이라고 아니?') # 상원님 나 안좋아해요?"
   ]
  },
  {
   "cell_type": "code",
   "execution_count": 82,
   "id": "ce78d28a",
   "metadata": {},
   "outputs": [
    {
     "name": "stdout",
     "output_type": "stream",
     "text": [
      "Input: 이슬\n",
      "Output: 금방 지나갈 거예요 .\n"
     ]
    }
   ],
   "source": [
    "output = predict('이슬') # "
   ]
  },
  {
   "cell_type": "code",
   "execution_count": 83,
   "id": "43f34a7a",
   "metadata": {},
   "outputs": [
    {
     "name": "stdout",
     "output_type": "stream",
     "text": [
      "Input: 이슬이라고 아니?\n",
      "Output: 서로에게 부담 없는 작은 선물이 좋아요 .\n"
     ]
    }
   ],
   "source": [
    "output = predict('이슬이라고 아니?')"
   ]
  },
  {
   "cell_type": "code",
   "execution_count": 84,
   "id": "0ba089d4",
   "metadata": {},
   "outputs": [
    {
     "name": "stdout",
     "output_type": "stream",
     "text": [
      "Input: 나와 그녀의 취미가 하나도 맞지않아\n",
      "Output: 복잡한 심경인가봐요 .\n"
     ]
    }
   ],
   "source": [
    "output = predict('나와 그녀의 취미가 하나도 맞지않아')"
   ]
  },
  {
   "cell_type": "code",
   "execution_count": 85,
   "id": "632f8332",
   "metadata": {},
   "outputs": [
    {
     "name": "stdout",
     "output_type": "stream",
     "text": [
      "Input: 나 담배 끊을 수 있을까?\n",
      "Output: 당신을 인정해줄 곳을 찾아보세요 .\n"
     ]
    }
   ],
   "source": [
    "output = predict('나 담배 끊을 수 있을까?')"
   ]
  },
  {
   "cell_type": "code",
   "execution_count": 86,
   "id": "c6b4baec",
   "metadata": {},
   "outputs": [
    {
     "data": {
      "text/html": [
       "<div>\n",
       "<style scoped>\n",
       "    .dataframe tbody tr th:only-of-type {\n",
       "        vertical-align: middle;\n",
       "    }\n",
       "\n",
       "    .dataframe tbody tr th {\n",
       "        vertical-align: top;\n",
       "    }\n",
       "\n",
       "    .dataframe thead th {\n",
       "        text-align: right;\n",
       "    }\n",
       "</style>\n",
       "<table border=\"1\" class=\"dataframe\">\n",
       "  <thead>\n",
       "    <tr style=\"text-align: right;\">\n",
       "      <th></th>\n",
       "      <th>Q</th>\n",
       "      <th>A</th>\n",
       "      <th>label</th>\n",
       "    </tr>\n",
       "  </thead>\n",
       "  <tbody>\n",
       "    <tr>\n",
       "      <th>1208</th>\n",
       "      <td>대우가 별로야</td>\n",
       "      <td>당신을 인정해줄 곳을 찾아보세요.</td>\n",
       "      <td>0</td>\n",
       "    </tr>\n",
       "    <tr>\n",
       "      <th>1209</th>\n",
       "      <td>대우를 안해줘</td>\n",
       "      <td>당신을 인정해줄 곳을 찾아보세요.</td>\n",
       "      <td>0</td>\n",
       "    </tr>\n",
       "  </tbody>\n",
       "</table>\n",
       "</div>"
      ],
      "text/plain": [
       "            Q                   A  label\n",
       "1208  대우가 별로야  당신을 인정해줄 곳을 찾아보세요.      0\n",
       "1209  대우를 안해줘  당신을 인정해줄 곳을 찾아보세요.      0"
      ]
     },
     "execution_count": 86,
     "metadata": {},
     "output_type": "execute_result"
    }
   ],
   "source": [
    "train_data[train_data['A'].str.contains('당신을 인정')] # 맞나?"
   ]
  },
  {
   "cell_type": "code",
   "execution_count": 88,
   "id": "ca1886a4",
   "metadata": {},
   "outputs": [
    {
     "name": "stdout",
     "output_type": "stream",
     "text": [
      "Input: 게임을 끊어야 하는데\n",
      "Output: 마세요 .\n"
     ]
    }
   ],
   "source": [
    "output = predict('게임을 끊어야 하는데') # 하지... 마세요?"
   ]
  },
  {
   "cell_type": "markdown",
   "id": "34421c76",
   "metadata": {},
   "source": [
    "## 회고\n",
    "NLP는 역시나 너무 어려웠고, CV에 익숙해져서 그런지 무슨 원리인지 하나도 이해를 하지 못했다.\n",
    "그래서 기초적인 토크나이저와 정수인코딩 부분을 다시한번 공부를 해봤던 것 같다.\n",
    "노드나 깃허브 등등 다양한곳에서 계속 데이터 부분을 이후에 쓰고 그전에 포지셔널 인코딩과 인코더 디코더들을 계속 먼저 함수 정의를해서\n",
    "머리가 지끈했는데, 반대로 생각해서 데이터를 먼저 전처리하는것을 하고났더니 이후에 마음이 편안한 점이 있었다.\n",
    "민기님과 이야기를 나누면서 서로 학습한 모델의 결과로 재미있게 수다를 떨었다. 즐거웠다. 민기님 꼬박꼬박 챙겨드세요 ^^\n",
    "\n",
    "오늘 이슬님과 더 친해진거 같아서 좋은 하루 였습니다. 하하\n",
    "\n",
    "- K\n",
    "    - 이해를 못했기 때문에, 데이터 전처리 부터 정리 한 점\n",
    "    - 그루 분과 학습된 데이터로 결과를 보면서 이야기 나눈 점\n",
    "- P\n",
    "    - 이해를 하나도 하지 못했습니다.\n",
    "    - csv 파일에 뜬금없이 스페이스바 한번있어서 데이터가 안불러와졌습니다. 다른사람들은 다 홈페이지링크로 해결했더군요\n",
    "- T\n",
    "    - 기초부터 다시 봐서 노드의 일부분만이라도 이해를 했답니다.\n",
    "    - 저는 개빡쳐서 스페이스바있는거 발견하고 해결했습니다. 진짜 막 os.chdir(), os.getcwd(), pwd, os.dirlist() 쓰면서 찾아봤었습니다."
   ]
  }
 ],
 "metadata": {
  "kernelspec": {
   "display_name": "Python 3 (ipykernel)",
   "language": "python",
   "name": "python3"
  },
  "language_info": {
   "codemirror_mode": {
    "name": "ipython",
    "version": 3
   },
   "file_extension": ".py",
   "mimetype": "text/x-python",
   "name": "python",
   "nbconvert_exporter": "python",
   "pygments_lexer": "ipython3",
   "version": "3.9.7"
  }
 },
 "nbformat": 4,
 "nbformat_minor": 5
}
